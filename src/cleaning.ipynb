{
 "cells": [
  {
   "cell_type": "markdown",
   "metadata": {},
   "source": [
    "# Data Cleasing"
   ]
  },
  {
   "cell_type": "code",
   "execution_count": 1,
   "metadata": {},
   "outputs": [],
   "source": [
    "# imports\n",
    "import pandas as pd\n",
    "import numpy as np\n",
    "\n",
    "RANDOM_SEED=42"
   ]
  },
  {
   "cell_type": "code",
   "execution_count": 2,
   "metadata": {},
   "outputs": [
    {
     "name": "stderr",
     "output_type": "stream",
     "text": [
      "/var/folders/y0/rbdj7f755h1cpddq270cg3800000gn/T/ipykernel_96926/2666506941.py:1: DtypeWarning: Columns (6,10) have mixed types. Specify dtype option on import or set low_memory=False.\n",
      "  df = pd.read_csv('./data/austin_car_crash.csv')\n"
     ]
    },
    {
     "data": {
      "text/html": [
       "<div>\n",
       "<style scoped>\n",
       "    .dataframe tbody tr th:only-of-type {\n",
       "        vertical-align: middle;\n",
       "    }\n",
       "\n",
       "    .dataframe tbody tr th {\n",
       "        vertical-align: top;\n",
       "    }\n",
       "\n",
       "    .dataframe thead th {\n",
       "        text-align: right;\n",
       "    }\n",
       "</style>\n",
       "<table border=\"1\" class=\"dataframe\">\n",
       "  <thead>\n",
       "    <tr style=\"text-align: right;\">\n",
       "      <th></th>\n",
       "      <th>ID</th>\n",
       "      <th>Crash ID</th>\n",
       "      <th>crash_fatal_fl</th>\n",
       "      <th>case_id</th>\n",
       "      <th>Primary address</th>\n",
       "      <th>Secondary address</th>\n",
       "      <th>rpt_block_num</th>\n",
       "      <th>rpt_street_name</th>\n",
       "      <th>rpt_street_sfx</th>\n",
       "      <th>crash_speed_limit</th>\n",
       "      <th>...</th>\n",
       "      <th>micromobility_serious_injury_count</th>\n",
       "      <th>micromobility_death_count</th>\n",
       "      <th>Crash timestamp (US/Central)</th>\n",
       "      <th>Crash timestamp</th>\n",
       "      <th>Is deleted</th>\n",
       "      <th>Is temporary record</th>\n",
       "      <th>Law enforcement fatality count</th>\n",
       "      <th>Reported street prefix</th>\n",
       "      <th>Estimated Maximum Comprehensive Cost</th>\n",
       "      <th>Estimated Total Comprehensive Cost</th>\n",
       "    </tr>\n",
       "  </thead>\n",
       "  <tbody>\n",
       "    <tr>\n",
       "      <th>0</th>\n",
       "      <td>727</td>\n",
       "      <td>13650732.0</td>\n",
       "      <td>False</td>\n",
       "      <td>140080135</td>\n",
       "      <td>8000 NOT REPORTED HWY</td>\n",
       "      <td>ROYAL PALMS DR</td>\n",
       "      <td>8000</td>\n",
       "      <td>NOT REPORTED</td>\n",
       "      <td>HWY</td>\n",
       "      <td>-1.0</td>\n",
       "      <td>...</td>\n",
       "      <td>0</td>\n",
       "      <td>0</td>\n",
       "      <td>01/08/2014 02:34:00 AM</td>\n",
       "      <td>01/08/2014 08:34:00 AM</td>\n",
       "      <td>False</td>\n",
       "      <td>False</td>\n",
       "      <td>0</td>\n",
       "      <td>NaN</td>\n",
       "      <td>20000</td>\n",
       "      <td>20000</td>\n",
       "    </tr>\n",
       "    <tr>\n",
       "      <th>1</th>\n",
       "      <td>849</td>\n",
       "      <td>13653672.0</td>\n",
       "      <td>False</td>\n",
       "      <td>140101374</td>\n",
       "      <td>NOT REPORTED</td>\n",
       "      <td>AIRPORT BLVD BLVD</td>\n",
       "      <td>NaN</td>\n",
       "      <td>NOT REPORTED</td>\n",
       "      <td>NaN</td>\n",
       "      <td>-1.0</td>\n",
       "      <td>...</td>\n",
       "      <td>0</td>\n",
       "      <td>0</td>\n",
       "      <td>01/10/2014 05:34:00 PM</td>\n",
       "      <td>01/10/2014 11:34:00 PM</td>\n",
       "      <td>False</td>\n",
       "      <td>False</td>\n",
       "      <td>0</td>\n",
       "      <td>NaN</td>\n",
       "      <td>250000</td>\n",
       "      <td>290000</td>\n",
       "    </tr>\n",
       "    <tr>\n",
       "      <th>2</th>\n",
       "      <td>1417</td>\n",
       "      <td>13668262.0</td>\n",
       "      <td>False</td>\n",
       "      <td>140141596</td>\n",
       "      <td>ANTHONY ST</td>\n",
       "      <td>HOLLY ST</td>\n",
       "      <td>NaN</td>\n",
       "      <td>ANTHONY</td>\n",
       "      <td>ST</td>\n",
       "      <td>30.0</td>\n",
       "      <td>...</td>\n",
       "      <td>0</td>\n",
       "      <td>0</td>\n",
       "      <td>01/14/2014 07:25:00 PM</td>\n",
       "      <td>01/15/2014 01:25:00 AM</td>\n",
       "      <td>False</td>\n",
       "      <td>False</td>\n",
       "      <td>0</td>\n",
       "      <td>NaN</td>\n",
       "      <td>20000</td>\n",
       "      <td>40000</td>\n",
       "    </tr>\n",
       "    <tr>\n",
       "      <th>3</th>\n",
       "      <td>1295</td>\n",
       "      <td>13665836.0</td>\n",
       "      <td>False</td>\n",
       "      <td>140080823</td>\n",
       "      <td>2800 N LAMAR BLVD</td>\n",
       "      <td>SAN GABRIEL ST</td>\n",
       "      <td>2800</td>\n",
       "      <td>LAMAR</td>\n",
       "      <td>BLVD</td>\n",
       "      <td>35.0</td>\n",
       "      <td>...</td>\n",
       "      <td>0</td>\n",
       "      <td>0</td>\n",
       "      <td>01/08/2014 01:35:00 PM</td>\n",
       "      <td>01/08/2014 07:35:00 PM</td>\n",
       "      <td>False</td>\n",
       "      <td>False</td>\n",
       "      <td>0</td>\n",
       "      <td>NaN</td>\n",
       "      <td>200000</td>\n",
       "      <td>820000</td>\n",
       "    </tr>\n",
       "    <tr>\n",
       "      <th>4</th>\n",
       "      <td>1662</td>\n",
       "      <td>13671385.0</td>\n",
       "      <td>False</td>\n",
       "      <td>140190466</td>\n",
       "      <td>1800 LAVACA ST</td>\n",
       "      <td>W 18TH ST</td>\n",
       "      <td>1800</td>\n",
       "      <td>LAVACA</td>\n",
       "      <td>ST</td>\n",
       "      <td>30.0</td>\n",
       "      <td>...</td>\n",
       "      <td>0</td>\n",
       "      <td>0</td>\n",
       "      <td>01/19/2014 05:31:00 AM</td>\n",
       "      <td>01/19/2014 11:31:00 AM</td>\n",
       "      <td>False</td>\n",
       "      <td>False</td>\n",
       "      <td>0</td>\n",
       "      <td>NaN</td>\n",
       "      <td>20000</td>\n",
       "      <td>20000</td>\n",
       "    </tr>\n",
       "  </tbody>\n",
       "</table>\n",
       "<p>5 rows × 45 columns</p>\n",
       "</div>"
      ],
      "text/plain": [
       "     ID    Crash ID  crash_fatal_fl    case_id        Primary address  \\\n",
       "0   727  13650732.0           False  140080135  8000 NOT REPORTED HWY   \n",
       "1   849  13653672.0           False  140101374           NOT REPORTED   \n",
       "2  1417  13668262.0           False  140141596             ANTHONY ST   \n",
       "3  1295  13665836.0           False  140080823      2800 N LAMAR BLVD   \n",
       "4  1662  13671385.0           False  140190466         1800 LAVACA ST   \n",
       "\n",
       "   Secondary address rpt_block_num rpt_street_name rpt_street_sfx  \\\n",
       "0     ROYAL PALMS DR          8000    NOT REPORTED            HWY   \n",
       "1  AIRPORT BLVD BLVD           NaN    NOT REPORTED            NaN   \n",
       "2           HOLLY ST           NaN         ANTHONY             ST   \n",
       "3     SAN GABRIEL ST          2800           LAMAR           BLVD   \n",
       "4          W 18TH ST          1800          LAVACA             ST   \n",
       "\n",
       "   crash_speed_limit  ... micromobility_serious_injury_count  \\\n",
       "0               -1.0  ...                                  0   \n",
       "1               -1.0  ...                                  0   \n",
       "2               30.0  ...                                  0   \n",
       "3               35.0  ...                                  0   \n",
       "4               30.0  ...                                  0   \n",
       "\n",
       "   micromobility_death_count  Crash timestamp (US/Central)  \\\n",
       "0                          0        01/08/2014 02:34:00 AM   \n",
       "1                          0        01/10/2014 05:34:00 PM   \n",
       "2                          0        01/14/2014 07:25:00 PM   \n",
       "3                          0        01/08/2014 01:35:00 PM   \n",
       "4                          0        01/19/2014 05:31:00 AM   \n",
       "\n",
       "          Crash timestamp  Is deleted  Is temporary record  \\\n",
       "0  01/08/2014 08:34:00 AM       False                False   \n",
       "1  01/10/2014 11:34:00 PM       False                False   \n",
       "2  01/15/2014 01:25:00 AM       False                False   \n",
       "3  01/08/2014 07:35:00 PM       False                False   \n",
       "4  01/19/2014 11:31:00 AM       False                False   \n",
       "\n",
       "   Law enforcement fatality count  Reported street prefix  \\\n",
       "0                               0                     NaN   \n",
       "1                               0                     NaN   \n",
       "2                               0                     NaN   \n",
       "3                               0                     NaN   \n",
       "4                               0                     NaN   \n",
       "\n",
       "   Estimated Maximum Comprehensive Cost  Estimated Total Comprehensive Cost  \n",
       "0                                 20000                               20000  \n",
       "1                                250000                              290000  \n",
       "2                                 20000                               40000  \n",
       "3                                200000                              820000  \n",
       "4                                 20000                               20000  \n",
       "\n",
       "[5 rows x 45 columns]"
      ]
     },
     "metadata": {},
     "output_type": "display_data"
    }
   ],
   "source": [
    "df = pd.read_csv('./data/austin_car_crash.csv')\n",
    "display(df.head())"
   ]
  },
  {
   "cell_type": "markdown",
   "metadata": {},
   "source": [
    "# Drop rows"
   ]
  },
  {
   "cell_type": "code",
   "execution_count": 3,
   "metadata": {},
   "outputs": [
    {
     "name": "stdout",
     "output_type": "stream",
     "text": [
      "Is temporary record\n",
      "False    216082\n",
      "True          6\n",
      "Name: count, dtype: int64\n",
      "6\n",
      "0\n"
     ]
    }
   ],
   "source": [
    "# remove any rows that have 'Is temporary record` == True\n",
    "print(df['Is temporary record'].value_counts())\n",
    "print(len(df[df['Is temporary record'] == True]))\n",
    "df = df[df['Is temporary record'] != True]\n",
    "print(len(df[df['Is temporary record'] == True]))"
   ]
  },
  {
   "cell_type": "code",
   "execution_count": 4,
   "metadata": {},
   "outputs": [
    {
     "name": "stdout",
     "output_type": "stream",
     "text": [
      "Is deleted\n",
      "False    216082\n",
      "Name: count, dtype: int64\n",
      "0\n",
      "0\n"
     ]
    }
   ],
   "source": [
    "# remove any rows that have 'Is deleted' == True\n",
    "print(df['Is deleted'].value_counts())\n",
    "print(len(df[df['Is deleted'] == True]))\n",
    "df = df[df['Is deleted'] != True]\n",
    "print(len(df[df['Is deleted'] == True]))"
   ]
  },
  {
   "cell_type": "markdown",
   "metadata": {},
   "source": [
    "# Drop columns"
   ]
  },
  {
   "cell_type": "code",
   "execution_count": 5,
   "metadata": {},
   "outputs": [
    {
     "name": "stdout",
     "output_type": "stream",
     "text": [
      "Index(['ID', 'Crash ID', 'crash_fatal_fl', 'case_id', 'Primary address',\n",
      "       'Secondary address', 'rpt_block_num', 'rpt_street_name',\n",
      "       'rpt_street_sfx', 'crash_speed_limit', 'road_constr_zone_fl',\n",
      "       'latitude', 'longitude', 'crash_sev_id', 'sus_serious_injry_cnt',\n",
      "       'nonincap_injry_cnt', 'poss_injry_cnt', 'non_injry_cnt',\n",
      "       'unkn_injry_cnt', 'tot_injry_cnt', 'death_cnt', 'units_involved',\n",
      "       'point', 'motor_vehicle_death_count',\n",
      "       'motor_vehicle_serious_injury_count', 'bicycle_death_count',\n",
      "       'bicycle_serious_injury_count', 'pedestrian_death_count',\n",
      "       'pedestrian_serious_injury_count', 'motorcycle_death_count',\n",
      "       'motorcycle_serious_injury_count', 'other_death_count',\n",
      "       'other_serious_injury_count', 'onsys_fl', 'private_dr_fl',\n",
      "       'micromobility_serious_injury_count', 'micromobility_death_count',\n",
      "       'Crash timestamp (US/Central)', 'Crash timestamp', 'Is deleted',\n",
      "       'Is temporary record', 'Law enforcement fatality count',\n",
      "       'Reported street prefix', 'Estimated Maximum Comprehensive Cost',\n",
      "       'Estimated Total Comprehensive Cost'],\n",
      "      dtype='object')\n"
     ]
    }
   ],
   "source": [
    "print(df.columns)"
   ]
  },
  {
   "cell_type": "code",
   "execution_count": 6,
   "metadata": {},
   "outputs": [],
   "source": [
    "# Here I am removing columns that are not useful for the model\n",
    "# IDs are not useful\n",
    "# rpt columns are a repetition of Primary address\n",
    "# No need for point as it was generated from the lat and long\n",
    "\n",
    "to_drop = [ 'ID', 'Crash ID', 'case_id', 'rpt_block_num', 'rpt_street_name', 'rpt_street_sfx',\n",
    "    'point', 'Is deleted', 'Is temporary record', 'Reported street prefix']\n",
    "df.drop(to_drop, axis=1, inplace=True)"
   ]
  },
  {
   "cell_type": "code",
   "execution_count": 7,
   "metadata": {},
   "outputs": [
    {
     "data": {
      "text/html": [
       "<div>\n",
       "<style scoped>\n",
       "    .dataframe tbody tr th:only-of-type {\n",
       "        vertical-align: middle;\n",
       "    }\n",
       "\n",
       "    .dataframe tbody tr th {\n",
       "        vertical-align: top;\n",
       "    }\n",
       "\n",
       "    .dataframe thead th {\n",
       "        text-align: right;\n",
       "    }\n",
       "</style>\n",
       "<table border=\"1\" class=\"dataframe\">\n",
       "  <thead>\n",
       "    <tr style=\"text-align: right;\">\n",
       "      <th></th>\n",
       "      <th>crash_fatal_fl</th>\n",
       "      <th>Primary address</th>\n",
       "      <th>Secondary address</th>\n",
       "      <th>crash_speed_limit</th>\n",
       "      <th>road_constr_zone_fl</th>\n",
       "      <th>latitude</th>\n",
       "      <th>longitude</th>\n",
       "      <th>crash_sev_id</th>\n",
       "      <th>sus_serious_injry_cnt</th>\n",
       "      <th>nonincap_injry_cnt</th>\n",
       "      <th>...</th>\n",
       "      <th>other_serious_injury_count</th>\n",
       "      <th>onsys_fl</th>\n",
       "      <th>private_dr_fl</th>\n",
       "      <th>micromobility_serious_injury_count</th>\n",
       "      <th>micromobility_death_count</th>\n",
       "      <th>Crash timestamp (US/Central)</th>\n",
       "      <th>Crash timestamp</th>\n",
       "      <th>Law enforcement fatality count</th>\n",
       "      <th>Estimated Maximum Comprehensive Cost</th>\n",
       "      <th>Estimated Total Comprehensive Cost</th>\n",
       "    </tr>\n",
       "  </thead>\n",
       "  <tbody>\n",
       "    <tr>\n",
       "      <th>0</th>\n",
       "      <td>False</td>\n",
       "      <td>8000 NOT REPORTED HWY</td>\n",
       "      <td>ROYAL PALMS DR</td>\n",
       "      <td>-1.0</td>\n",
       "      <td>False</td>\n",
       "      <td>NaN</td>\n",
       "      <td>NaN</td>\n",
       "      <td>5</td>\n",
       "      <td>0</td>\n",
       "      <td>0</td>\n",
       "      <td>...</td>\n",
       "      <td>0</td>\n",
       "      <td>True</td>\n",
       "      <td>False</td>\n",
       "      <td>0</td>\n",
       "      <td>0</td>\n",
       "      <td>01/08/2014 02:34:00 AM</td>\n",
       "      <td>01/08/2014 08:34:00 AM</td>\n",
       "      <td>0</td>\n",
       "      <td>20000</td>\n",
       "      <td>20000</td>\n",
       "    </tr>\n",
       "    <tr>\n",
       "      <th>1</th>\n",
       "      <td>False</td>\n",
       "      <td>NOT REPORTED</td>\n",
       "      <td>AIRPORT BLVD BLVD</td>\n",
       "      <td>-1.0</td>\n",
       "      <td>False</td>\n",
       "      <td>NaN</td>\n",
       "      <td>NaN</td>\n",
       "      <td>2</td>\n",
       "      <td>0</td>\n",
       "      <td>1</td>\n",
       "      <td>...</td>\n",
       "      <td>0</td>\n",
       "      <td>True</td>\n",
       "      <td>False</td>\n",
       "      <td>0</td>\n",
       "      <td>0</td>\n",
       "      <td>01/10/2014 05:34:00 PM</td>\n",
       "      <td>01/10/2014 11:34:00 PM</td>\n",
       "      <td>0</td>\n",
       "      <td>250000</td>\n",
       "      <td>290000</td>\n",
       "    </tr>\n",
       "    <tr>\n",
       "      <th>2</th>\n",
       "      <td>False</td>\n",
       "      <td>ANTHONY ST</td>\n",
       "      <td>HOLLY ST</td>\n",
       "      <td>30.0</td>\n",
       "      <td>False</td>\n",
       "      <td>NaN</td>\n",
       "      <td>NaN</td>\n",
       "      <td>5</td>\n",
       "      <td>0</td>\n",
       "      <td>0</td>\n",
       "      <td>...</td>\n",
       "      <td>0</td>\n",
       "      <td>False</td>\n",
       "      <td>False</td>\n",
       "      <td>0</td>\n",
       "      <td>0</td>\n",
       "      <td>01/14/2014 07:25:00 PM</td>\n",
       "      <td>01/15/2014 01:25:00 AM</td>\n",
       "      <td>0</td>\n",
       "      <td>20000</td>\n",
       "      <td>40000</td>\n",
       "    </tr>\n",
       "    <tr>\n",
       "      <th>3</th>\n",
       "      <td>False</td>\n",
       "      <td>2800 N LAMAR BLVD</td>\n",
       "      <td>SAN GABRIEL ST</td>\n",
       "      <td>35.0</td>\n",
       "      <td>False</td>\n",
       "      <td>30.244344</td>\n",
       "      <td>-97.781309</td>\n",
       "      <td>3</td>\n",
       "      <td>0</td>\n",
       "      <td>0</td>\n",
       "      <td>...</td>\n",
       "      <td>0</td>\n",
       "      <td>True</td>\n",
       "      <td>False</td>\n",
       "      <td>0</td>\n",
       "      <td>0</td>\n",
       "      <td>01/08/2014 01:35:00 PM</td>\n",
       "      <td>01/08/2014 07:35:00 PM</td>\n",
       "      <td>0</td>\n",
       "      <td>200000</td>\n",
       "      <td>820000</td>\n",
       "    </tr>\n",
       "    <tr>\n",
       "      <th>4</th>\n",
       "      <td>False</td>\n",
       "      <td>1800 LAVACA ST</td>\n",
       "      <td>W 18TH ST</td>\n",
       "      <td>30.0</td>\n",
       "      <td>False</td>\n",
       "      <td>30.280295</td>\n",
       "      <td>-97.740912</td>\n",
       "      <td>0</td>\n",
       "      <td>0</td>\n",
       "      <td>0</td>\n",
       "      <td>...</td>\n",
       "      <td>0</td>\n",
       "      <td>False</td>\n",
       "      <td>False</td>\n",
       "      <td>0</td>\n",
       "      <td>0</td>\n",
       "      <td>01/19/2014 05:31:00 AM</td>\n",
       "      <td>01/19/2014 11:31:00 AM</td>\n",
       "      <td>0</td>\n",
       "      <td>20000</td>\n",
       "      <td>20000</td>\n",
       "    </tr>\n",
       "  </tbody>\n",
       "</table>\n",
       "<p>5 rows × 35 columns</p>\n",
       "</div>"
      ],
      "text/plain": [
       "   crash_fatal_fl        Primary address  Secondary address  \\\n",
       "0           False  8000 NOT REPORTED HWY     ROYAL PALMS DR   \n",
       "1           False           NOT REPORTED  AIRPORT BLVD BLVD   \n",
       "2           False             ANTHONY ST           HOLLY ST   \n",
       "3           False      2800 N LAMAR BLVD     SAN GABRIEL ST   \n",
       "4           False         1800 LAVACA ST          W 18TH ST   \n",
       "\n",
       "   crash_speed_limit road_constr_zone_fl   latitude  longitude  crash_sev_id  \\\n",
       "0               -1.0               False        NaN        NaN             5   \n",
       "1               -1.0               False        NaN        NaN             2   \n",
       "2               30.0               False        NaN        NaN             5   \n",
       "3               35.0               False  30.244344 -97.781309             3   \n",
       "4               30.0               False  30.280295 -97.740912             0   \n",
       "\n",
       "   sus_serious_injry_cnt  nonincap_injry_cnt  ...  other_serious_injury_count  \\\n",
       "0                      0                   0  ...                           0   \n",
       "1                      0                   1  ...                           0   \n",
       "2                      0                   0  ...                           0   \n",
       "3                      0                   0  ...                           0   \n",
       "4                      0                   0  ...                           0   \n",
       "\n",
       "   onsys_fl  private_dr_fl  micromobility_serious_injury_count  \\\n",
       "0      True          False                                   0   \n",
       "1      True          False                                   0   \n",
       "2     False          False                                   0   \n",
       "3      True          False                                   0   \n",
       "4     False          False                                   0   \n",
       "\n",
       "   micromobility_death_count Crash timestamp (US/Central)  \\\n",
       "0                          0       01/08/2014 02:34:00 AM   \n",
       "1                          0       01/10/2014 05:34:00 PM   \n",
       "2                          0       01/14/2014 07:25:00 PM   \n",
       "3                          0       01/08/2014 01:35:00 PM   \n",
       "4                          0       01/19/2014 05:31:00 AM   \n",
       "\n",
       "          Crash timestamp  Law enforcement fatality count  \\\n",
       "0  01/08/2014 08:34:00 AM                               0   \n",
       "1  01/10/2014 11:34:00 PM                               0   \n",
       "2  01/15/2014 01:25:00 AM                               0   \n",
       "3  01/08/2014 07:35:00 PM                               0   \n",
       "4  01/19/2014 11:31:00 AM                               0   \n",
       "\n",
       "   Estimated Maximum Comprehensive Cost  Estimated Total Comprehensive Cost  \n",
       "0                                 20000                               20000  \n",
       "1                                250000                              290000  \n",
       "2                                 20000                               40000  \n",
       "3                                200000                              820000  \n",
       "4                                 20000                               20000  \n",
       "\n",
       "[5 rows x 35 columns]"
      ]
     },
     "metadata": {},
     "output_type": "display_data"
    }
   ],
   "source": [
    "display(df.head())"
   ]
  },
  {
   "cell_type": "markdown",
   "metadata": {},
   "source": [
    "# Calculations"
   ]
  },
  {
   "cell_type": "markdown",
   "metadata": {},
   "source": [
    "### Private or public roads"
   ]
  },
  {
   "cell_type": "code",
   "execution_count": 8,
   "metadata": {},
   "outputs": [
    {
     "name": "stdout",
     "output_type": "stream",
     "text": [
      "onsys_fl\n",
      "False    110768\n",
      "True     105314\n",
      "Name: count, dtype: int64\n"
     ]
    }
   ],
   "source": [
    "# Combine onsys_fl and private_dr_fl into one column\n",
    "\n",
    "print(df['onsys_fl'].value_counts())"
   ]
  },
  {
   "cell_type": "code",
   "execution_count": 9,
   "metadata": {},
   "outputs": [
    {
     "name": "stdout",
     "output_type": "stream",
     "text": [
      "private_dr_fl\n",
      "False    216082\n",
      "Name: count, dtype: int64\n"
     ]
    }
   ],
   "source": [
    "print(df['private_dr_fl'].value_counts())"
   ]
  },
  {
   "cell_type": "markdown",
   "metadata": {},
   "source": [
    "There are no private accidents recorded."
   ]
  },
  {
   "cell_type": "code",
   "execution_count": 10,
   "metadata": {},
   "outputs": [],
   "source": [
    "df.drop(['private_dr_fl', 'onsys_fl'], axis=1, inplace=True)"
   ]
  },
  {
   "cell_type": "markdown",
   "metadata": {},
   "source": [
    "### Dates"
   ]
  },
  {
   "cell_type": "code",
   "execution_count": 11,
   "metadata": {},
   "outputs": [
    {
     "name": "stdout",
     "output_type": "stream",
     "text": [
      "0\n",
      "0\n"
     ]
    }
   ],
   "source": [
    "# count nan values for dates\n",
    "print(df['Crash timestamp'].isna().sum())\n",
    "print(df['Crash timestamp (US/Central)'].isna().sum())"
   ]
  },
  {
   "cell_type": "code",
   "execution_count": 12,
   "metadata": {},
   "outputs": [],
   "source": [
    "# Create a new column for better date and time handling\n",
    "df.drop('Crash timestamp', axis=1, inplace=True)\n",
    "df['Crash timestamp (US/Central)'] = pd.to_datetime(df['Crash timestamp (US/Central)'])"
   ]
  },
  {
   "cell_type": "code",
   "execution_count": 13,
   "metadata": {},
   "outputs": [
    {
     "name": "stdout",
     "output_type": "stream",
     "text": [
      "0\n"
     ]
    }
   ],
   "source": [
    "print(df['Crash timestamp (US/Central)'].isna().sum())"
   ]
  },
  {
   "cell_type": "code",
   "execution_count": 14,
   "metadata": {},
   "outputs": [
    {
     "data": {
      "text/plain": [
       "0   2014-01-08 02:34:00\n",
       "1   2014-01-10 17:34:00\n",
       "2   2014-01-14 19:25:00\n",
       "3   2014-01-08 13:35:00\n",
       "4   2014-01-19 05:31:00\n",
       "Name: Crash timestamp (US/Central), dtype: datetime64[ns]"
      ]
     },
     "metadata": {},
     "output_type": "display_data"
    }
   ],
   "source": [
    "display(df['Crash timestamp (US/Central)'].head())"
   ]
  },
  {
   "cell_type": "markdown",
   "metadata": {},
   "source": [
    "# Renaming columns"
   ]
  },
  {
   "cell_type": "code",
   "execution_count": 15,
   "metadata": {},
   "outputs": [
    {
     "name": "stdout",
     "output_type": "stream",
     "text": [
      "Index(['crash_fatal_fl', 'Primary address', 'Secondary address',\n",
      "       'crash_speed_limit', 'road_constr_zone_fl', 'latitude', 'longitude',\n",
      "       'crash_sev_id', 'sus_serious_injry_cnt', 'nonincap_injry_cnt',\n",
      "       'poss_injry_cnt', 'non_injry_cnt', 'unkn_injry_cnt', 'tot_injry_cnt',\n",
      "       'death_cnt', 'units_involved', 'motor_vehicle_death_count',\n",
      "       'motor_vehicle_serious_injury_count', 'bicycle_death_count',\n",
      "       'bicycle_serious_injury_count', 'pedestrian_death_count',\n",
      "       'pedestrian_serious_injury_count', 'motorcycle_death_count',\n",
      "       'motorcycle_serious_injury_count', 'other_death_count',\n",
      "       'other_serious_injury_count', 'micromobility_serious_injury_count',\n",
      "       'micromobility_death_count', 'Crash timestamp (US/Central)',\n",
      "       'Law enforcement fatality count',\n",
      "       'Estimated Maximum Comprehensive Cost',\n",
      "       'Estimated Total Comprehensive Cost'],\n",
      "      dtype='object')\n"
     ]
    }
   ],
   "source": [
    "print(df.columns)"
   ]
  },
  {
   "cell_type": "code",
   "execution_count": 16,
   "metadata": {},
   "outputs": [
    {
     "name": "stdout",
     "output_type": "stream",
     "text": [
      "{'crash_fatal_fl': 'crash_fatal_fl', 'Primary address': 'primary_address', 'Secondary address': 'secondary_address', 'crash_speed_limit': 'crash_speed_limit', 'road_constr_zone_fl': 'road_constr_zone_fl', 'latitude': 'latitude', 'longitude': 'longitude', 'crash_sev_id': 'crash_sev_id', 'sus_serious_injry_cnt': 'sus_serious_injry_cnt', 'nonincap_injry_cnt': 'nonincap_injry_cnt', 'poss_injry_cnt': 'poss_injry_cnt', 'non_injry_cnt': 'non_injry_cnt', 'unkn_injry_cnt': 'unkn_injry_cnt', 'tot_injry_cnt': 'tot_injry_cnt', 'death_cnt': 'death_cnt', 'units_involved': 'units_involved', 'motor_vehicle_death_count': 'motor_vehicle_death_count', 'motor_vehicle_serious_injury_count': 'motor_vehicle_serious_injury_count', 'bicycle_death_count': 'bicycle_death_count', 'bicycle_serious_injury_count': 'bicycle_serious_injury_count', 'pedestrian_death_count': 'pedestrian_death_count', 'pedestrian_serious_injury_count': 'pedestrian_serious_injury_count', 'motorcycle_death_count': 'motorcycle_death_count', 'motorcycle_serious_injury_count': 'motorcycle_serious_injury_count', 'other_death_count': 'other_death_count', 'other_serious_injury_count': 'other_serious_injury_count', 'micromobility_serious_injury_count': 'micromobility_serious_injury_count', 'micromobility_death_count': 'micromobility_death_count', 'Crash timestamp (US/Central)': 'crash_timestamp_(us/central)', 'Law enforcement fatality count': 'law_enforcement_fatality_count', 'Estimated Maximum Comprehensive Cost': 'estimated_maximum_comprehensive_cost', 'Estimated Total Comprehensive Cost': 'estimated_total_comprehensive_cost'}\n"
     ]
    }
   ],
   "source": [
    "column_names = df.columns\n",
    "new_column_names = {}\n",
    "for column in column_names:\n",
    "    new_column_names[column] = column.lower().replace(' ', '_')\n",
    "\n",
    "print(new_column_names)\n",
    "\n",
    "df.rename(columns=new_column_names, inplace=True)"
   ]
  },
  {
   "cell_type": "code",
   "execution_count": 17,
   "metadata": {},
   "outputs": [
    {
     "data": {
      "text/html": [
       "<div>\n",
       "<style scoped>\n",
       "    .dataframe tbody tr th:only-of-type {\n",
       "        vertical-align: middle;\n",
       "    }\n",
       "\n",
       "    .dataframe tbody tr th {\n",
       "        vertical-align: top;\n",
       "    }\n",
       "\n",
       "    .dataframe thead th {\n",
       "        text-align: right;\n",
       "    }\n",
       "</style>\n",
       "<table border=\"1\" class=\"dataframe\">\n",
       "  <thead>\n",
       "    <tr style=\"text-align: right;\">\n",
       "      <th></th>\n",
       "      <th>crash_fatal_fl</th>\n",
       "      <th>primary_address</th>\n",
       "      <th>secondary_address</th>\n",
       "      <th>crash_speed_limit</th>\n",
       "      <th>road_constr_zone_fl</th>\n",
       "      <th>latitude</th>\n",
       "      <th>longitude</th>\n",
       "      <th>crash_sev_id</th>\n",
       "      <th>sus_serious_injry_cnt</th>\n",
       "      <th>nonincap_injry_cnt</th>\n",
       "      <th>...</th>\n",
       "      <th>motorcycle_death_count</th>\n",
       "      <th>motorcycle_serious_injury_count</th>\n",
       "      <th>other_death_count</th>\n",
       "      <th>other_serious_injury_count</th>\n",
       "      <th>micromobility_serious_injury_count</th>\n",
       "      <th>micromobility_death_count</th>\n",
       "      <th>crash_timestamp_(us/central)</th>\n",
       "      <th>law_enforcement_fatality_count</th>\n",
       "      <th>estimated_maximum_comprehensive_cost</th>\n",
       "      <th>estimated_total_comprehensive_cost</th>\n",
       "    </tr>\n",
       "  </thead>\n",
       "  <tbody>\n",
       "    <tr>\n",
       "      <th>0</th>\n",
       "      <td>False</td>\n",
       "      <td>8000 NOT REPORTED HWY</td>\n",
       "      <td>ROYAL PALMS DR</td>\n",
       "      <td>-1.0</td>\n",
       "      <td>False</td>\n",
       "      <td>NaN</td>\n",
       "      <td>NaN</td>\n",
       "      <td>5</td>\n",
       "      <td>0</td>\n",
       "      <td>0</td>\n",
       "      <td>...</td>\n",
       "      <td>0</td>\n",
       "      <td>0</td>\n",
       "      <td>0</td>\n",
       "      <td>0</td>\n",
       "      <td>0</td>\n",
       "      <td>0</td>\n",
       "      <td>2014-01-08 02:34:00</td>\n",
       "      <td>0</td>\n",
       "      <td>20000</td>\n",
       "      <td>20000</td>\n",
       "    </tr>\n",
       "    <tr>\n",
       "      <th>1</th>\n",
       "      <td>False</td>\n",
       "      <td>NOT REPORTED</td>\n",
       "      <td>AIRPORT BLVD BLVD</td>\n",
       "      <td>-1.0</td>\n",
       "      <td>False</td>\n",
       "      <td>NaN</td>\n",
       "      <td>NaN</td>\n",
       "      <td>2</td>\n",
       "      <td>0</td>\n",
       "      <td>1</td>\n",
       "      <td>...</td>\n",
       "      <td>0</td>\n",
       "      <td>0</td>\n",
       "      <td>0</td>\n",
       "      <td>0</td>\n",
       "      <td>0</td>\n",
       "      <td>0</td>\n",
       "      <td>2014-01-10 17:34:00</td>\n",
       "      <td>0</td>\n",
       "      <td>250000</td>\n",
       "      <td>290000</td>\n",
       "    </tr>\n",
       "    <tr>\n",
       "      <th>2</th>\n",
       "      <td>False</td>\n",
       "      <td>ANTHONY ST</td>\n",
       "      <td>HOLLY ST</td>\n",
       "      <td>30.0</td>\n",
       "      <td>False</td>\n",
       "      <td>NaN</td>\n",
       "      <td>NaN</td>\n",
       "      <td>5</td>\n",
       "      <td>0</td>\n",
       "      <td>0</td>\n",
       "      <td>...</td>\n",
       "      <td>0</td>\n",
       "      <td>0</td>\n",
       "      <td>0</td>\n",
       "      <td>0</td>\n",
       "      <td>0</td>\n",
       "      <td>0</td>\n",
       "      <td>2014-01-14 19:25:00</td>\n",
       "      <td>0</td>\n",
       "      <td>20000</td>\n",
       "      <td>40000</td>\n",
       "    </tr>\n",
       "    <tr>\n",
       "      <th>3</th>\n",
       "      <td>False</td>\n",
       "      <td>2800 N LAMAR BLVD</td>\n",
       "      <td>SAN GABRIEL ST</td>\n",
       "      <td>35.0</td>\n",
       "      <td>False</td>\n",
       "      <td>30.244344</td>\n",
       "      <td>-97.781309</td>\n",
       "      <td>3</td>\n",
       "      <td>0</td>\n",
       "      <td>0</td>\n",
       "      <td>...</td>\n",
       "      <td>0</td>\n",
       "      <td>0</td>\n",
       "      <td>0</td>\n",
       "      <td>0</td>\n",
       "      <td>0</td>\n",
       "      <td>0</td>\n",
       "      <td>2014-01-08 13:35:00</td>\n",
       "      <td>0</td>\n",
       "      <td>200000</td>\n",
       "      <td>820000</td>\n",
       "    </tr>\n",
       "    <tr>\n",
       "      <th>4</th>\n",
       "      <td>False</td>\n",
       "      <td>1800 LAVACA ST</td>\n",
       "      <td>W 18TH ST</td>\n",
       "      <td>30.0</td>\n",
       "      <td>False</td>\n",
       "      <td>30.280295</td>\n",
       "      <td>-97.740912</td>\n",
       "      <td>0</td>\n",
       "      <td>0</td>\n",
       "      <td>0</td>\n",
       "      <td>...</td>\n",
       "      <td>0</td>\n",
       "      <td>0</td>\n",
       "      <td>0</td>\n",
       "      <td>0</td>\n",
       "      <td>0</td>\n",
       "      <td>0</td>\n",
       "      <td>2014-01-19 05:31:00</td>\n",
       "      <td>0</td>\n",
       "      <td>20000</td>\n",
       "      <td>20000</td>\n",
       "    </tr>\n",
       "  </tbody>\n",
       "</table>\n",
       "<p>5 rows × 32 columns</p>\n",
       "</div>"
      ],
      "text/plain": [
       "   crash_fatal_fl        primary_address  secondary_address  \\\n",
       "0           False  8000 NOT REPORTED HWY     ROYAL PALMS DR   \n",
       "1           False           NOT REPORTED  AIRPORT BLVD BLVD   \n",
       "2           False             ANTHONY ST           HOLLY ST   \n",
       "3           False      2800 N LAMAR BLVD     SAN GABRIEL ST   \n",
       "4           False         1800 LAVACA ST          W 18TH ST   \n",
       "\n",
       "   crash_speed_limit road_constr_zone_fl   latitude  longitude  crash_sev_id  \\\n",
       "0               -1.0               False        NaN        NaN             5   \n",
       "1               -1.0               False        NaN        NaN             2   \n",
       "2               30.0               False        NaN        NaN             5   \n",
       "3               35.0               False  30.244344 -97.781309             3   \n",
       "4               30.0               False  30.280295 -97.740912             0   \n",
       "\n",
       "   sus_serious_injry_cnt  nonincap_injry_cnt  ...  motorcycle_death_count  \\\n",
       "0                      0                   0  ...                       0   \n",
       "1                      0                   1  ...                       0   \n",
       "2                      0                   0  ...                       0   \n",
       "3                      0                   0  ...                       0   \n",
       "4                      0                   0  ...                       0   \n",
       "\n",
       "   motorcycle_serious_injury_count  other_death_count  \\\n",
       "0                                0                  0   \n",
       "1                                0                  0   \n",
       "2                                0                  0   \n",
       "3                                0                  0   \n",
       "4                                0                  0   \n",
       "\n",
       "   other_serious_injury_count  micromobility_serious_injury_count  \\\n",
       "0                           0                                   0   \n",
       "1                           0                                   0   \n",
       "2                           0                                   0   \n",
       "3                           0                                   0   \n",
       "4                           0                                   0   \n",
       "\n",
       "  micromobility_death_count  crash_timestamp_(us/central)  \\\n",
       "0                         0           2014-01-08 02:34:00   \n",
       "1                         0           2014-01-10 17:34:00   \n",
       "2                         0           2014-01-14 19:25:00   \n",
       "3                         0           2014-01-08 13:35:00   \n",
       "4                         0           2014-01-19 05:31:00   \n",
       "\n",
       "   law_enforcement_fatality_count  estimated_maximum_comprehensive_cost  \\\n",
       "0                               0                                 20000   \n",
       "1                               0                                250000   \n",
       "2                               0                                 20000   \n",
       "3                               0                                200000   \n",
       "4                               0                                 20000   \n",
       "\n",
       "   estimated_total_comprehensive_cost  \n",
       "0                               20000  \n",
       "1                              290000  \n",
       "2                               40000  \n",
       "3                              820000  \n",
       "4                               20000  \n",
       "\n",
       "[5 rows x 32 columns]"
      ]
     },
     "metadata": {},
     "output_type": "display_data"
    }
   ],
   "source": [
    "display(df.head())"
   ]
  },
  {
   "cell_type": "code",
   "execution_count": 18,
   "metadata": {},
   "outputs": [
    {
     "name": "stdout",
     "output_type": "stream",
     "text": [
      "Index(['crash_fatal_fl', 'primary_address', 'secondary_address',\n",
      "       'crash_speed_limit', 'road_constr_zone_fl', 'latitude', 'longitude',\n",
      "       'crash_sev_id', 'sus_serious_injry_cnt', 'nonincap_injry_cnt',\n",
      "       'poss_injry_cnt', 'non_injry_cnt', 'unkn_injry_cnt', 'tot_injry_cnt',\n",
      "       'death_cnt', 'units_involved', 'motor_vehicle_death_count',\n",
      "       'motor_vehicle_serious_injury_count', 'bicycle_death_count',\n",
      "       'bicycle_serious_injury_count', 'pedestrian_death_count',\n",
      "       'pedestrian_serious_injury_count', 'motorcycle_death_count',\n",
      "       'motorcycle_serious_injury_count', 'other_death_count',\n",
      "       'other_serious_injury_count', 'micromobility_serious_injury_count',\n",
      "       'micromobility_death_count', 'crash_timestamp_(us/central)',\n",
      "       'law_enforcement_fatality_count',\n",
      "       'estimated_maximum_comprehensive_cost',\n",
      "       'estimated_total_comprehensive_cost'],\n",
      "      dtype='object')\n"
     ]
    }
   ],
   "source": [
    "print(df.columns)"
   ]
  },
  {
   "cell_type": "code",
   "execution_count": 19,
   "metadata": {},
   "outputs": [],
   "source": [
    "renames = {\n",
    "    'crash_fatal_fl': 'fatal_crash',\n",
    "    'crash_speed_limit': 'speed_limit',\n",
    "    'road_constr_zone_fl': 'construction_zone',\n",
    "    'crash_sev_id': 'crash_severity',\n",
    "    'crash_timestamp_(us/central)': 'timestamp_us_central',\n",
    "}"
   ]
  },
  {
   "cell_type": "code",
   "execution_count": 20,
   "metadata": {},
   "outputs": [
    {
     "data": {
      "text/html": [
       "<div>\n",
       "<style scoped>\n",
       "    .dataframe tbody tr th:only-of-type {\n",
       "        vertical-align: middle;\n",
       "    }\n",
       "\n",
       "    .dataframe tbody tr th {\n",
       "        vertical-align: top;\n",
       "    }\n",
       "\n",
       "    .dataframe thead th {\n",
       "        text-align: right;\n",
       "    }\n",
       "</style>\n",
       "<table border=\"1\" class=\"dataframe\">\n",
       "  <thead>\n",
       "    <tr style=\"text-align: right;\">\n",
       "      <th></th>\n",
       "      <th>fatal_crash</th>\n",
       "      <th>primary_address</th>\n",
       "      <th>secondary_address</th>\n",
       "      <th>speed_limit</th>\n",
       "      <th>construction_zone</th>\n",
       "      <th>latitude</th>\n",
       "      <th>longitude</th>\n",
       "      <th>crash_severity</th>\n",
       "      <th>sus_serious_injry_cnt</th>\n",
       "      <th>nonincap_injry_cnt</th>\n",
       "      <th>...</th>\n",
       "      <th>motorcycle_death_count</th>\n",
       "      <th>motorcycle_serious_injury_count</th>\n",
       "      <th>other_death_count</th>\n",
       "      <th>other_serious_injury_count</th>\n",
       "      <th>micromobility_serious_injury_count</th>\n",
       "      <th>micromobility_death_count</th>\n",
       "      <th>timestamp_us_central</th>\n",
       "      <th>law_enforcement_fatality_count</th>\n",
       "      <th>estimated_maximum_comprehensive_cost</th>\n",
       "      <th>estimated_total_comprehensive_cost</th>\n",
       "    </tr>\n",
       "  </thead>\n",
       "  <tbody>\n",
       "    <tr>\n",
       "      <th>0</th>\n",
       "      <td>False</td>\n",
       "      <td>8000 NOT REPORTED HWY</td>\n",
       "      <td>ROYAL PALMS DR</td>\n",
       "      <td>-1.0</td>\n",
       "      <td>False</td>\n",
       "      <td>NaN</td>\n",
       "      <td>NaN</td>\n",
       "      <td>5</td>\n",
       "      <td>0</td>\n",
       "      <td>0</td>\n",
       "      <td>...</td>\n",
       "      <td>0</td>\n",
       "      <td>0</td>\n",
       "      <td>0</td>\n",
       "      <td>0</td>\n",
       "      <td>0</td>\n",
       "      <td>0</td>\n",
       "      <td>2014-01-08 02:34:00</td>\n",
       "      <td>0</td>\n",
       "      <td>20000</td>\n",
       "      <td>20000</td>\n",
       "    </tr>\n",
       "    <tr>\n",
       "      <th>1</th>\n",
       "      <td>False</td>\n",
       "      <td>NOT REPORTED</td>\n",
       "      <td>AIRPORT BLVD BLVD</td>\n",
       "      <td>-1.0</td>\n",
       "      <td>False</td>\n",
       "      <td>NaN</td>\n",
       "      <td>NaN</td>\n",
       "      <td>2</td>\n",
       "      <td>0</td>\n",
       "      <td>1</td>\n",
       "      <td>...</td>\n",
       "      <td>0</td>\n",
       "      <td>0</td>\n",
       "      <td>0</td>\n",
       "      <td>0</td>\n",
       "      <td>0</td>\n",
       "      <td>0</td>\n",
       "      <td>2014-01-10 17:34:00</td>\n",
       "      <td>0</td>\n",
       "      <td>250000</td>\n",
       "      <td>290000</td>\n",
       "    </tr>\n",
       "    <tr>\n",
       "      <th>2</th>\n",
       "      <td>False</td>\n",
       "      <td>ANTHONY ST</td>\n",
       "      <td>HOLLY ST</td>\n",
       "      <td>30.0</td>\n",
       "      <td>False</td>\n",
       "      <td>NaN</td>\n",
       "      <td>NaN</td>\n",
       "      <td>5</td>\n",
       "      <td>0</td>\n",
       "      <td>0</td>\n",
       "      <td>...</td>\n",
       "      <td>0</td>\n",
       "      <td>0</td>\n",
       "      <td>0</td>\n",
       "      <td>0</td>\n",
       "      <td>0</td>\n",
       "      <td>0</td>\n",
       "      <td>2014-01-14 19:25:00</td>\n",
       "      <td>0</td>\n",
       "      <td>20000</td>\n",
       "      <td>40000</td>\n",
       "    </tr>\n",
       "    <tr>\n",
       "      <th>3</th>\n",
       "      <td>False</td>\n",
       "      <td>2800 N LAMAR BLVD</td>\n",
       "      <td>SAN GABRIEL ST</td>\n",
       "      <td>35.0</td>\n",
       "      <td>False</td>\n",
       "      <td>30.244344</td>\n",
       "      <td>-97.781309</td>\n",
       "      <td>3</td>\n",
       "      <td>0</td>\n",
       "      <td>0</td>\n",
       "      <td>...</td>\n",
       "      <td>0</td>\n",
       "      <td>0</td>\n",
       "      <td>0</td>\n",
       "      <td>0</td>\n",
       "      <td>0</td>\n",
       "      <td>0</td>\n",
       "      <td>2014-01-08 13:35:00</td>\n",
       "      <td>0</td>\n",
       "      <td>200000</td>\n",
       "      <td>820000</td>\n",
       "    </tr>\n",
       "    <tr>\n",
       "      <th>4</th>\n",
       "      <td>False</td>\n",
       "      <td>1800 LAVACA ST</td>\n",
       "      <td>W 18TH ST</td>\n",
       "      <td>30.0</td>\n",
       "      <td>False</td>\n",
       "      <td>30.280295</td>\n",
       "      <td>-97.740912</td>\n",
       "      <td>0</td>\n",
       "      <td>0</td>\n",
       "      <td>0</td>\n",
       "      <td>...</td>\n",
       "      <td>0</td>\n",
       "      <td>0</td>\n",
       "      <td>0</td>\n",
       "      <td>0</td>\n",
       "      <td>0</td>\n",
       "      <td>0</td>\n",
       "      <td>2014-01-19 05:31:00</td>\n",
       "      <td>0</td>\n",
       "      <td>20000</td>\n",
       "      <td>20000</td>\n",
       "    </tr>\n",
       "  </tbody>\n",
       "</table>\n",
       "<p>5 rows × 32 columns</p>\n",
       "</div>"
      ],
      "text/plain": [
       "   fatal_crash        primary_address  secondary_address  speed_limit  \\\n",
       "0        False  8000 NOT REPORTED HWY     ROYAL PALMS DR         -1.0   \n",
       "1        False           NOT REPORTED  AIRPORT BLVD BLVD         -1.0   \n",
       "2        False             ANTHONY ST           HOLLY ST         30.0   \n",
       "3        False      2800 N LAMAR BLVD     SAN GABRIEL ST         35.0   \n",
       "4        False         1800 LAVACA ST          W 18TH ST         30.0   \n",
       "\n",
       "  construction_zone   latitude  longitude  crash_severity  \\\n",
       "0             False        NaN        NaN               5   \n",
       "1             False        NaN        NaN               2   \n",
       "2             False        NaN        NaN               5   \n",
       "3             False  30.244344 -97.781309               3   \n",
       "4             False  30.280295 -97.740912               0   \n",
       "\n",
       "   sus_serious_injry_cnt  nonincap_injry_cnt  ...  motorcycle_death_count  \\\n",
       "0                      0                   0  ...                       0   \n",
       "1                      0                   1  ...                       0   \n",
       "2                      0                   0  ...                       0   \n",
       "3                      0                   0  ...                       0   \n",
       "4                      0                   0  ...                       0   \n",
       "\n",
       "   motorcycle_serious_injury_count  other_death_count  \\\n",
       "0                                0                  0   \n",
       "1                                0                  0   \n",
       "2                                0                  0   \n",
       "3                                0                  0   \n",
       "4                                0                  0   \n",
       "\n",
       "   other_serious_injury_count  micromobility_serious_injury_count  \\\n",
       "0                           0                                   0   \n",
       "1                           0                                   0   \n",
       "2                           0                                   0   \n",
       "3                           0                                   0   \n",
       "4                           0                                   0   \n",
       "\n",
       "  micromobility_death_count  timestamp_us_central  \\\n",
       "0                         0   2014-01-08 02:34:00   \n",
       "1                         0   2014-01-10 17:34:00   \n",
       "2                         0   2014-01-14 19:25:00   \n",
       "3                         0   2014-01-08 13:35:00   \n",
       "4                         0   2014-01-19 05:31:00   \n",
       "\n",
       "   law_enforcement_fatality_count  estimated_maximum_comprehensive_cost  \\\n",
       "0                               0                                 20000   \n",
       "1                               0                                250000   \n",
       "2                               0                                 20000   \n",
       "3                               0                                200000   \n",
       "4                               0                                 20000   \n",
       "\n",
       "   estimated_total_comprehensive_cost  \n",
       "0                               20000  \n",
       "1                              290000  \n",
       "2                               40000  \n",
       "3                              820000  \n",
       "4                               20000  \n",
       "\n",
       "[5 rows x 32 columns]"
      ]
     },
     "metadata": {},
     "output_type": "display_data"
    }
   ],
   "source": [
    "df.rename(columns=renames, inplace=True)\n",
    "display(df.head())"
   ]
  },
  {
   "cell_type": "markdown",
   "metadata": {},
   "source": [
    "# Value corrections"
   ]
  },
  {
   "cell_type": "code",
   "execution_count": 21,
   "metadata": {},
   "outputs": [
    {
     "data": {
      "text/plain": [
       "speed_limit\n",
       "-1.0     38441\n",
       " 35.0    33143\n",
       " 45.0    28105\n",
       " 55.0    20365\n",
       " 30.0    19001\n",
       " 65.0    16459\n",
       " 40.0    14274\n",
       " 50.0    11613\n",
       " 0.0     11335\n",
       " 60.0    10466\n",
       " 70.0     6899\n",
       " 25.0     3279\n",
       " 75.0     1127\n",
       " 15.0      524\n",
       " 20.0      456\n",
       " 10.0      236\n",
       " 80.0      223\n",
       " 5.0        96\n",
       " 34.0       11\n",
       " 85.0        8\n",
       " 36.0        4\n",
       " 6.0         4\n",
       " 24.0        2\n",
       " 58.0        1\n",
       " 66.0        1\n",
       " 39.0        1\n",
       " 79.0        1\n",
       " 51.0        1\n",
       " 53.0        1\n",
       " 42.0        1\n",
       " 32.0        1\n",
       " 7.0         1\n",
       " 64.0        1\n",
       " 56.0        1\n",
       "Name: count, dtype: int64"
      ]
     },
     "execution_count": 21,
     "metadata": {},
     "output_type": "execute_result"
    }
   ],
   "source": [
    "df['speed_limit'].value_counts()"
   ]
  },
  {
   "cell_type": "code",
   "execution_count": 22,
   "metadata": {},
   "outputs": [],
   "source": [
    "df['speed_limit'] = df['speed_limit'].replace(-1, np.nan)\n",
    "df['speed_limit'] = df['speed_limit'].replace(0, np.nan)"
   ]
  },
  {
   "cell_type": "code",
   "execution_count": 23,
   "metadata": {},
   "outputs": [],
   "source": [
    "df = df.dropna(subset=['speed_limit'])"
   ]
  },
  {
   "cell_type": "code",
   "execution_count": 24,
   "metadata": {},
   "outputs": [
    {
     "name": "stdout",
     "output_type": "stream",
     "text": [
      "85.0\n"
     ]
    }
   ],
   "source": [
    "print(df['speed_limit'].max())"
   ]
  },
  {
   "cell_type": "code",
   "execution_count": 25,
   "metadata": {},
   "outputs": [
    {
     "name": "stdout",
     "output_type": "stream",
     "text": [
      "46.01846596033817\n"
     ]
    }
   ],
   "source": [
    "print(df['speed_limit'].mean())"
   ]
  },
  {
   "cell_type": "code",
   "execution_count": 26,
   "metadata": {},
   "outputs": [],
   "source": [
    "# df['speed_limit'] = (np.ceil(df['speed_limit'] / 5) * 5).astype(int)\n",
    "df['speed_limit'] = df['speed_limit'] // 5 * 5"
   ]
  },
  {
   "cell_type": "code",
   "execution_count": 27,
   "metadata": {},
   "outputs": [
    {
     "data": {
      "text/plain": [
       "speed_limit\n",
       "35.0    33148\n",
       "45.0    28105\n",
       "55.0    20367\n",
       "30.0    19013\n",
       "65.0    16460\n",
       "40.0    14275\n",
       "50.0    11615\n",
       "60.0    10467\n",
       "70.0     6899\n",
       "25.0     3279\n",
       "75.0     1128\n",
       "15.0      524\n",
       "20.0      458\n",
       "10.0      236\n",
       "80.0      223\n",
       "5.0       101\n",
       "85.0        8\n",
       "Name: count, dtype: int64"
      ]
     },
     "execution_count": 27,
     "metadata": {},
     "output_type": "execute_result"
    }
   ],
   "source": [
    "df['speed_limit'].value_counts()"
   ]
  },
  {
   "cell_type": "code",
   "execution_count": 28,
   "metadata": {},
   "outputs": [
    {
     "name": "stdout",
     "output_type": "stream",
     "text": [
      "crash_severity\n",
      "5    78314\n",
      "3    35858\n",
      "2    34256\n",
      "0    11761\n",
      "1     5077\n",
      "4     1040\n",
      "Name: count, dtype: int64\n"
     ]
    }
   ],
   "source": [
    "print(df['crash_severity'].value_counts())"
   ]
  },
  {
   "cell_type": "code",
   "execution_count": 29,
   "metadata": {},
   "outputs": [
    {
     "name": "stdout",
     "output_type": "stream",
     "text": [
      "crash_severity\n",
      "0    78314\n",
      "4    35858\n",
      "3    34256\n",
      "1    11761\n",
      "2     5077\n",
      "5     1040\n",
      "Name: count, dtype: int64\n"
     ]
    }
   ],
   "source": [
    "# Original: (0=UNKNOWN, 1=INCAPACITATING INJURY, 2=NON-INCAPACITATING INJURY, 3=POSSIBLE INJURY, 4=KILLED, 5=NOT INJURED)\n",
    "# We want to change it to (0=NOT INJURED, 1=UNKNOWN, 2=INCAPACITATING INJURY, 3=NON-INCAPACITATING INJURY, 4=POSSIBLE INJURY, 5=KILLED)\n",
    "df['crash_severity'] = df['crash_severity'] + 1\n",
    "df['crash_severity'] = df['crash_severity'].replace(6, 0)\n",
    "print(df['crash_severity'].value_counts())"
   ]
  },
  {
   "cell_type": "code",
   "execution_count": 30,
   "metadata": {},
   "outputs": [
    {
     "name": "stdout",
     "output_type": "stream",
     "text": [
      "construction_zone\n",
      "False    157608\n",
      "True       8698\n",
      "Name: count, dtype: int64\n"
     ]
    }
   ],
   "source": [
    "print(df['construction_zone'].value_counts())"
   ]
  },
  {
   "cell_type": "code",
   "execution_count": 31,
   "metadata": {},
   "outputs": [
    {
     "name": "stdout",
     "output_type": "stream",
     "text": [
      "units_involved\n",
      "Passenger car                                                                                   57788\n",
      "Large passenger vehicle & Passenger car                                                         56374\n",
      "Large passenger vehicle                                                                         25804\n",
      "Motor vehicle – other & Passenger car                                                            5275\n",
      "Large passenger vehicle & Motor vehicle – other                                                  2600\n",
      "                                                                                                ...  \n",
      "Bicycle & Motor vehicle – other & Other/Unknown                                                     1\n",
      "Bicycle & Large passenger vehicle & Pedestrian                                                      1\n",
      "Large passenger vehicle & Motor vehicle – other & Other/Unknown & Passenger car & Pedestrian        1\n",
      "Bicycle & Large passenger vehicle & Passenger car & Pedestrian                                      1\n",
      "Bicycle & Motorcycle & Passenger car                                                                1\n",
      "Name: count, Length: 75, dtype: int64\n"
     ]
    }
   ],
   "source": [
    "print(df['units_involved'].value_counts())"
   ]
  },
  {
   "cell_type": "markdown",
   "metadata": {},
   "source": [
    "# Save result"
   ]
  },
  {
   "cell_type": "code",
   "execution_count": 32,
   "metadata": {},
   "outputs": [],
   "source": [
    "df_cleaned = df.dropna()\n",
    "df_cleaned.to_csv('./data/austin_car_crash_cleaned.csv', index=False)"
   ]
  },
  {
   "cell_type": "code",
   "execution_count": 33,
   "metadata": {},
   "outputs": [
    {
     "data": {
      "text/plain": [
       "(163596, 32)"
      ]
     },
     "execution_count": 33,
     "metadata": {},
     "output_type": "execute_result"
    }
   ],
   "source": [
    "df_cleaned.shape"
   ]
  }
 ],
 "metadata": {
  "kernelspec": {
   "display_name": "Python 3",
   "language": "python",
   "name": "python3"
  },
  "language_info": {
   "codemirror_mode": {
    "name": "ipython",
    "version": 3
   },
   "file_extension": ".py",
   "mimetype": "text/x-python",
   "name": "python",
   "nbconvert_exporter": "python",
   "pygments_lexer": "ipython3",
   "version": "3.12.6"
  }
 },
 "nbformat": 4,
 "nbformat_minor": 2
}
