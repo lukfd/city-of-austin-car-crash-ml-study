{
 "cells": [
  {
   "cell_type": "markdown",
   "id": "2cf87bb2",
   "metadata": {},
   "source": [
    "# Predictions\n",
    "\n",
    "In the main notebook, we trained different models, where the dependent variable `estimated_total_comprehensive_cost`. In this notebook, we will use that model to predict based on new data."
   ]
  },
  {
   "cell_type": "code",
   "execution_count": 1,
   "id": "2e59bd99",
   "metadata": {},
   "outputs": [],
   "source": [
    "from utils.utils import Pickler\n",
    "import numpy as np"
   ]
  },
  {
   "cell_type": "code",
   "execution_count": 2,
   "id": "b90128be",
   "metadata": {},
   "outputs": [],
   "source": [
    "models = Pickler('./data/models.pkl').load()"
   ]
  },
  {
   "cell_type": "markdown",
   "id": "9c9c6b76",
   "metadata": {},
   "source": [
    "# New Independent Variables\n",
    "\n",
    "The models were trained with 21 independent variables.\n",
    "\n",
    "- fatal_crash\n",
    "- speed_limit\n",
    "- nonincap_injry_cnt\n",
    "- poss_injry_cnt\n",
    "- non_injry_cnt\n",
    "- unkn_injry_cnt\n",
    "- tot_injry_cnt\n",
    "- death_cnt\n",
    "- pedestrian_death_count\n",
    "- motorcycle_death_count\n",
    "- other_death_count\n",
    "- micromobility_death_count\n",
    "- estimated_total_comprehensive_cost\n",
    "- severity_non_incapacitating_injury\n",
    "- severity_possible_injury\n",
    "- severity_unknown\n",
    "- unit_involved_motor_vehicle_other\n",
    "- unit_involved_pedestrian\n",
    "- hour\n",
    "- weekend\n",
    "- hour_cos\n"
   ]
  },
  {
   "cell_type": "code",
   "execution_count": 3,
   "id": "f558f0ae",
   "metadata": {},
   "outputs": [],
   "source": [
    "vars = {\n",
    "    'fatal_crash': None,\n",
    "    'speed_limit': None,\n",
    "    'nonincap_injry_cnt': None,\n",
    "    'poss_injry_cnt': None,\n",
    "    'non_injry_cnt': None,\n",
    "    'unkn_injry_cnt': None,\n",
    "    'tot_injry_cnt': None,\n",
    "    'death_cnt': None,\n",
    "    'pedestrian_death_count': None,\n",
    "    'motorcycle_death_count': None,\n",
    "    'other_death_count': None,\n",
    "    'micromobility_death_count': None,\n",
    "    'estimated_total_comprehensive_cost': None,\n",
    "    'severity_non_incapacitating_injury': None,\n",
    "    'severity_possible_injury': None,\n",
    "    'severity_unknown': None,\n",
    "    'unit_involved_motor_vehicle_other': None,\n",
    "    'unit_involved_pedestrian': None,\n",
    "    'hour': None,\n",
    "    'weekend': None,\n",
    "    'hour_cos': None\n",
    "}\n",
    "\n",
    "new_prediction = np.array([vars.values()])"
   ]
  },
  {
   "cell_type": "code",
   "execution_count": 4,
   "id": "4b3f36e6",
   "metadata": {},
   "outputs": [
    {
     "name": "stdout",
     "output_type": "stream",
     "text": [
      "[dict_values([None, None, None, None, None, None, None, None, None, None, None, None, None, None, None, None, None, None, None, None, None])]\n"
     ]
    }
   ],
   "source": [
    "print(new_prediction)"
   ]
  },
  {
   "cell_type": "markdown",
   "id": "8f5dd71f",
   "metadata": {},
   "source": [
    "# Results"
   ]
  },
  {
   "cell_type": "code",
   "execution_count": 7,
   "id": "acf61dde",
   "metadata": {},
   "outputs": [
    {
     "name": "stdout",
     "output_type": "stream",
     "text": [
      "Pipeline(steps=[('preprocessor', None), ('regressor', LinearRegression())])\n",
      "Pipeline(steps=[('preprocessor', None), ('regressor', Ridge())])\n",
      "Pipeline(steps=[('preprocessor', None), ('regressor', Lasso(alpha=10.0))])\n",
      "Pipeline(steps=[('preprocessor', None),\n",
      "                ('regressor',\n",
      "                 DecisionTreeRegressor(max_depth=10, min_samples_split=5,\n",
      "                                       random_state=42))])\n",
      "Pipeline(steps=[('preprocessor', None),\n",
      "                ('regressor',\n",
      "                 RandomForestRegressor(max_depth=10, n_estimators=200,\n",
      "                                       n_jobs=-1, random_state=42))])\n",
      "Pipeline(steps=[('preprocessor', None), ('regressor', SVR())])\n",
      "Pipeline(steps=[('preprocessor', None),\n",
      "                ('regressor',\n",
      "                 KNeighborsRegressor(n_jobs=-1, n_neighbors=3,\n",
      "                                     weights='distance'))])\n"
     ]
    }
   ],
   "source": [
    "results = {}\n",
    "for model in models:\n",
    "    print(models[model])\n",
    "    # predictions = models[model].predict(new_prediction)\n",
    "    # result = predictions[0]\n",
    "    # print(f\"The {model} model predicted: {result}\")"
   ]
  },
  {
   "cell_type": "markdown",
   "id": "6169e1b8",
   "metadata": {},
   "source": [
    "# Visualization"
   ]
  }
 ],
 "metadata": {
  "kernelspec": {
   "display_name": "Python 3",
   "language": "python",
   "name": "python3"
  },
  "language_info": {
   "codemirror_mode": {
    "name": "ipython",
    "version": 3
   },
   "file_extension": ".py",
   "mimetype": "text/x-python",
   "name": "python",
   "nbconvert_exporter": "python",
   "pygments_lexer": "ipython3",
   "version": "3.12.6"
  }
 },
 "nbformat": 4,
 "nbformat_minor": 5
}
