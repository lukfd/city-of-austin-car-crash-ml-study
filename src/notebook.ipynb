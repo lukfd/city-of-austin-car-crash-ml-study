{
 "cells": [
  {
   "cell_type": "markdown",
   "metadata": {},
   "source": [
    "# Austin's Car Crash\n",
    "#### By: Luca Comba, Hung Tran, Steven Tran\n",
    "\n",
    "<img src=\"https://upload.wikimedia.org/wikipedia/en/thumb/a/a0/Seal_of_Austin%2C_TX.svg/1024px-Seal_of_Austin%2C_TX.svg.png\" width=\"100\" height=\"100\">\n",
    "\n",
    "#### Table of Contents\n",
    "1. [Introduction](#introduction)\n",
    "2. [Data](#data)\n",
    "3. [Models](#models)\n",
    "4. [Conclusion](#conclusion)\n"
   ]
  },
  {
   "cell_type": "markdown",
   "metadata": {},
   "source": [
    "# Introduction\n",
    "\n",
    "<div id=\"introduction\" />\n",
    "\n",
    "The original dataset includes records of traffic accidents in Austin, Texas, from 2010 to today, with 216,088 instances and 45 features, including both numerical and categorical data. The dataset can be found at [Austin Crash Report Data](https://catalog.data.gov/dataset/vision-zero-crash-report-data)."
   ]
  },
  {
   "cell_type": "markdown",
   "metadata": {},
   "source": [
    "# Data\n",
    "<div id=\"data\" />\n",
    "\n",
    "In the following section we will set up the dataset and the features we will be using for our models."
   ]
  },
  {
   "cell_type": "code",
   "execution_count": 1,
   "metadata": {},
   "outputs": [],
   "source": [
    "# imports\n",
    "import pandas as pd\n",
    "import numpy as np\n",
    "\n",
    "from sklearn.model_selection import GridSearchCV, train_test_split\n",
    "from sklearn.preprocessing import StandardScaler\n",
    "from sklearn.pipeline import Pipeline\n",
    "from sklearn.linear_model import LinearRegression, Ridge, Lasso\n",
    "from sklearn.tree import DecisionTreeRegressor\n",
    "from sklearn.ensemble import RandomForestRegressor\n",
    "from sklearn.svm import SVR\n",
    "from sklearn.neighbors import KNeighborsRegressor\n",
    "\n",
    "from utils.utils import (\n",
    "    print_linear_regression_scores,\n",
    "    backwards_elimination,\n",
    "    Timer,\n",
    "    Pickler\n",
    ")\n",
    "\n",
    "RANDOM_SEED=42"
   ]
  },
  {
   "cell_type": "code",
   "execution_count": 2,
   "metadata": {},
   "outputs": [],
   "source": [
    "# read data\n",
    "df = pd.read_csv('data/austin_car_crash_cleaned.csv')"
   ]
  },
  {
   "cell_type": "markdown",
   "metadata": {},
   "source": [
    "## Data Cleaning\n",
    "\n",
    "We went over the dataset cleansing in the file [cleaning.ipynb](./cleaning.ipynb).\n"
   ]
  },
  {
   "cell_type": "markdown",
   "metadata": {},
   "source": [
    "## Exploratory Data Analysis\n",
    "\n",
    "We went over the exploratory data analysis in the file [exploratory.ipynb](./exploratory.ipynb)."
   ]
  },
  {
   "cell_type": "markdown",
   "metadata": {},
   "source": [
    "## Split\n",
    "\n",
    "Before splitting the dataset into dependent and independent variables, we will drop the features that are not useful for our models.\n",
    "\n",
    "We will be dropping the `primary_address`, `secondary_address`, `latitude`, `longitude`, and `timestamp_us_central` due to their types."
   ]
  },
  {
   "cell_type": "code",
   "execution_count": 3,
   "metadata": {},
   "outputs": [],
   "source": [
    "df = df.drop(columns=['primary_address', 'secondary_address', 'timestamp_us_central', 'latitude', 'longitude'])"
   ]
  },
  {
   "cell_type": "code",
   "execution_count": 4,
   "metadata": {},
   "outputs": [],
   "source": [
    "# Define the target column\n",
    "target_col = 'estimated_total_comprehensive_cost'\n",
    "\n",
    "# Split into features (X) and target (y)\n",
    "X = df.drop(columns=[target_col]).astype(int)\n",
    "y = df[target_col]"
   ]
  },
  {
   "cell_type": "code",
   "execution_count": 5,
   "metadata": {},
   "outputs": [],
   "source": [
    "# Split 60-20-20 train-validation-test sets\n",
    "X_train, X_test, y_train, y_test = train_test_split(X, y, test_size=0.2, random_state=RANDOM_SEED)\n",
    "X_train, X_val, y_train, y_val = train_test_split(X_train, y_train, test_size=0.25, random_state=RANDOM_SEED)"
   ]
  },
  {
   "cell_type": "markdown",
   "metadata": {},
   "source": [
    "## Feature Scaling"
   ]
  },
  {
   "cell_type": "code",
   "execution_count": 6,
   "metadata": {},
   "outputs": [
    {
     "name": "stdout",
     "output_type": "stream",
     "text": [
      "Numeric columns: ['fatal_crash', 'speed_limit', 'construction_zone', 'sus_serious_injry_cnt', 'nonincap_injry_cnt', 'poss_injry_cnt', 'non_injry_cnt', 'unkn_injry_cnt', 'tot_injry_cnt', 'death_cnt', 'motor_vehicle_death_count', 'motor_vehicle_serious_injury_count', 'bicycle_death_count', 'bicycle_serious_injury_count', 'pedestrian_death_count', 'pedestrian_serious_injury_count', 'motorcycle_death_count', 'motorcycle_serious_injury_count', 'other_death_count', 'other_serious_injury_count', 'micromobility_serious_injury_count', 'micromobility_death_count', 'law_enforcement_fatality_count', 'severity_incapacitating_injury', 'severity_killed', 'severity_non_incapacitating_injury', 'severity_not_injured', 'severity_possible_injury', 'severity_unknown', 'unit_involved_bicycle', 'unit_involved_large_passenger_vehicle', 'unit_involved_motor_vehicle_other', 'unit_involved_motorcycle', 'unit_involved_other_unknown', 'unit_involved_passenger_car', 'unit_involved_pedestrian', 'hour', 'day_of_week', 'month', 'year', 'day_of_month', 'weekend', 'hour_sin', 'hour_cos', 'month_sin', 'month_cos']\n"
     ]
    }
   ],
   "source": [
    "# Select numeric columns\n",
    "numeric_cols = X_train.select_dtypes(include=[np.number]).columns.tolist()\n",
    "\n",
    "print(f\"Numeric columns: {numeric_cols}\")"
   ]
  },
  {
   "cell_type": "code",
   "execution_count": 7,
   "metadata": {},
   "outputs": [],
   "source": [
    "cols_to_remove = [ 'unit_involved_motor_vehicle_other', 'unit_involved_motorcycle', 'unit_involved_passenger_car']\n",
    "\n",
    "# 'unit_involved_bicycle',\n",
    "# 'unit_involved_large_passenger_vehicle',\n",
    "# 'unit_involved_motor_vehicle_other',\n",
    "# 'unit_involved_motorcycle',\n",
    "# 'unit_involved_other_unknown',\n",
    "# 'unit_involved_passenger_car',\n",
    "# 'unit_involved_pedestrian',\n",
    "\n",
    "\n",
    "for col in cols_to_remove:\n",
    "    numeric_cols.remove(col)"
   ]
  },
  {
   "cell_type": "code",
   "execution_count": 8,
   "metadata": {},
   "outputs": [
    {
     "name": "stdout",
     "output_type": "stream",
     "text": [
      "Categorical columns: []\n"
     ]
    }
   ],
   "source": [
    "# Select categorical columns\n",
    "categorical_cols = X_train.select_dtypes(exclude=[np.number]).columns.tolist()\n",
    "print(f\"Categorical columns: {categorical_cols}\")"
   ]
  },
  {
   "cell_type": "code",
   "execution_count": 9,
   "metadata": {},
   "outputs": [
    {
     "name": "stdout",
     "output_type": "stream",
     "text": [
      "Train after scaler. mean: fatal_crash                                 0.005610\n",
      "speed_limit                                45.911993\n",
      "construction_zone                           0.051477\n",
      "sus_serious_injry_cnt                       0.034929\n",
      "nonincap_injry_cnt                          0.284557\n",
      "poss_injry_cnt                              0.358758\n",
      "non_injry_cnt                               1.848982\n",
      "unkn_injry_cnt                              0.109255\n",
      "tot_injry_cnt                               0.678243\n",
      "death_cnt                                   0.005788\n",
      "motor_vehicle_death_count                   0.002899\n",
      "motor_vehicle_serious_injury_count          0.024441\n",
      "bicycle_death_count                         0.000136\n",
      "bicycle_serious_injury_count                0.001790\n",
      "pedestrian_death_count                      0.001874\n",
      "pedestrian_serious_injury_count             0.003517\n",
      "motorcycle_death_count                      0.000879\n",
      "motorcycle_serious_injury_count             0.005171\n",
      "other_death_count                           0.000000\n",
      "other_serious_injury_count                  0.000010\n",
      "micromobility_serious_injury_count          0.000000\n",
      "micromobility_death_count                   0.000000\n",
      "law_enforcement_fatality_count              0.003140\n",
      "severity_incapacitating_injury              0.029789\n",
      "severity_killed                             0.005610\n",
      "severity_non_incapacitating_injury          0.206829\n",
      "severity_not_injured                        0.472786\n",
      "severity_possible_injury                    0.216207\n",
      "severity_unknown                            0.068779\n",
      "unit_involved_bicycle                       0.016831\n",
      "unit_involved_large_passenger_vehicle       0.564927\n",
      "unit_involved_other_unknown                 0.024325\n",
      "unit_involved_pedestrian                    0.020421\n",
      "hour                                       12.880414\n",
      "day_of_week                                 2.972597\n",
      "month                                       6.514026\n",
      "year                                     2017.083715\n",
      "day_of_month                               15.546704\n",
      "weekend                                     0.262670\n",
      "hour_sin                                   -0.031621\n",
      "hour_cos                                   -0.032709\n",
      "month_sin                                   0.002826\n",
      "month_cos                                   0.000827\n",
      "dtype: float64 std: fatal_crash                               0.074692\n",
      "speed_limit                              12.681201\n",
      "construction_zone                         0.220968\n",
      "sus_serious_injry_cnt                     0.216799\n",
      "nonincap_injry_cnt                        0.643845\n",
      "poss_injry_cnt                            0.754040\n",
      "non_injry_cnt                             1.675248\n",
      "unkn_injry_cnt                            0.386797\n",
      "tot_injry_cnt                             0.965032\n",
      "death_cnt                                 0.080284\n",
      "motor_vehicle_death_count                 0.058967\n",
      "motor_vehicle_serious_injury_count        0.186413\n",
      "bicycle_death_count                       0.011664\n",
      "bicycle_serious_injury_count              0.060931\n",
      "pedestrian_death_count                    0.043965\n",
      "pedestrian_serious_injury_count           0.059902\n",
      "motorcycle_death_count                    0.029990\n",
      "motorcycle_serious_injury_count           0.073452\n",
      "other_death_count                         0.000000\n",
      "other_serious_injury_count                0.003235\n",
      "micromobility_serious_injury_count        0.000000\n",
      "micromobility_death_count                 0.000000\n",
      "law_enforcement_fatality_count            0.059220\n",
      "severity_incapacitating_injury            0.170005\n",
      "severity_killed                           0.074692\n",
      "severity_non_incapacitating_injury        0.405032\n",
      "severity_not_injured                      0.499259\n",
      "severity_possible_injury                  0.411657\n",
      "severity_unknown                          0.253078\n",
      "unit_involved_bicycle                     0.128638\n",
      "unit_involved_large_passenger_vehicle     0.495767\n",
      "unit_involved_other_unknown               0.154057\n",
      "unit_involved_pedestrian                  0.141436\n",
      "hour                                      6.002362\n",
      "day_of_week                               1.937142\n",
      "month                                     3.463778\n",
      "year                                      4.308177\n",
      "day_of_month                              8.756185\n",
      "weekend                                   0.440085\n",
      "hour_sin                                  0.300193\n",
      "hour_cos                                  0.283983\n",
      "month_sin                                 0.410705\n",
      "month_cos                                 0.403736\n",
      "dtype: float64\n",
      "Test after scaler. mean: fatal_crash                                 0.006468\n",
      "speed_limit                                45.960216\n",
      "construction_zone                           0.052595\n",
      "sus_serious_injry_cnt                       0.035482\n",
      "nonincap_injry_cnt                          0.280654\n",
      "poss_injry_cnt                              0.363048\n",
      "non_injry_cnt                               1.857506\n",
      "unkn_injry_cnt                              0.111062\n",
      "tot_injry_cnt                               0.679185\n",
      "death_cnt                                   0.006845\n",
      "motor_vehicle_death_count                   0.003611\n",
      "motor_vehicle_serious_injury_count          0.025277\n",
      "bicycle_death_count                         0.000188\n",
      "bicycle_serious_injury_count                0.001696\n",
      "pedestrian_death_count                      0.002010\n",
      "pedestrian_serious_injury_count             0.003894\n",
      "motorcycle_death_count                      0.001036\n",
      "motorcycle_serious_injury_count             0.004616\n",
      "other_death_count                           0.000000\n",
      "other_serious_injury_count                  0.000000\n",
      "micromobility_serious_injury_count          0.000000\n",
      "micromobility_death_count                   0.000000\n",
      "law_enforcement_fatality_count              0.003674\n",
      "severity_incapacitating_injury              0.029579\n",
      "severity_killed                             0.006468\n",
      "severity_non_incapacitating_injury          0.204415\n",
      "severity_not_injured                        0.472635\n",
      "severity_possible_injury                    0.217634\n",
      "severity_unknown                            0.069269\n",
      "unit_involved_bicycle                       0.016611\n",
      "unit_involved_large_passenger_vehicle       0.561026\n",
      "unit_involved_other_unknown                 0.023927\n",
      "unit_involved_pedestrian                    0.020379\n",
      "hour                                       12.965617\n",
      "day_of_week                                 2.970766\n",
      "month                                       6.495274\n",
      "year                                     2017.120231\n",
      "day_of_month                               15.621157\n",
      "weekend                                     0.261532\n",
      "hour_sin                                   -0.031808\n",
      "hour_cos                                   -0.034352\n",
      "month_sin                                   0.006971\n",
      "month_cos                                   0.004867\n",
      "dtype: float64 std: fatal_crash                               0.080166\n",
      "speed_limit                              12.688664\n",
      "construction_zone                         0.223224\n",
      "sus_serious_injry_cnt                     0.216294\n",
      "nonincap_injry_cnt                        0.705996\n",
      "poss_injry_cnt                            0.765303\n",
      "non_injry_cnt                             1.721981\n",
      "unkn_injry_cnt                            0.399476\n",
      "tot_injry_cnt                             1.027722\n",
      "death_cnt                                 0.088690\n",
      "motor_vehicle_death_count                 0.066912\n",
      "motor_vehicle_serious_injury_count        0.190576\n",
      "bicycle_death_count                       0.013725\n",
      "bicycle_serious_injury_count              0.041143\n",
      "pedestrian_death_count                    0.046165\n",
      "pedestrian_serious_injury_count           0.064262\n",
      "motorcycle_death_count                    0.033135\n",
      "motorcycle_serious_injury_count           0.070508\n",
      "other_death_count                         0.000000\n",
      "other_serious_injury_count                0.000000\n",
      "micromobility_serious_injury_count        0.000000\n",
      "micromobility_death_count                 0.000000\n",
      "law_enforcement_fatality_count            0.063538\n",
      "severity_incapacitating_injury            0.169423\n",
      "severity_killed                           0.080166\n",
      "severity_non_incapacitating_injury        0.403273\n",
      "severity_not_injured                      0.499251\n",
      "severity_possible_injury                  0.412637\n",
      "severity_unknown                          0.253910\n",
      "unit_involved_bicycle                     0.127807\n",
      "unit_involved_large_passenger_vehicle     0.496262\n",
      "unit_involved_other_unknown               0.152821\n",
      "unit_involved_pedestrian                  0.141292\n",
      "hour                                      5.993065\n",
      "day_of_week                               1.937104\n",
      "month                                     3.480628\n",
      "year                                      4.302014\n",
      "day_of_month                              8.788618\n",
      "weekend                                   0.439469\n",
      "hour_sin                                  0.301803\n",
      "hour_cos                                  0.285641\n",
      "month_sin                                 0.414076\n",
      "month_cos                                 0.401986\n",
      "dtype: float64\n"
     ]
    }
   ],
   "source": [
    "print(f'Train after scaler. mean: {np.mean(X_train[numeric_cols], axis=0)} std: {np.std(X_train[numeric_cols], axis=0)}')\n",
    "print(f'Test after scaler. mean: {np.mean(X_test[numeric_cols], axis=0)} std: {np.std(X_test[numeric_cols], axis=0)}')"
   ]
  },
  {
   "cell_type": "code",
   "execution_count": 10,
   "metadata": {},
   "outputs": [],
   "source": [
    "# Scale numeric features\n",
    "scaler = StandardScaler()\n",
    "X_train[numeric_cols] = scaler.fit_transform(X_train[numeric_cols])\n",
    "X_val[numeric_cols] = scaler.transform(X_val[numeric_cols])\n",
    "X_test[numeric_cols] = scaler.transform(X_test[numeric_cols])"
   ]
  },
  {
   "cell_type": "code",
   "execution_count": 11,
   "metadata": {},
   "outputs": [
    {
     "name": "stdout",
     "output_type": "stream",
     "text": [
      "Train after scaler. mean: fatal_crash                             -1.175090e-17\n",
      "speed_limit                             -1.463656e-16\n",
      "construction_zone                       -6.202690e-17\n",
      "sus_serious_injry_cnt                   -1.517205e-17\n",
      "nonincap_injry_cnt                      -7.467028e-17\n",
      "poss_injry_cnt                           6.098569e-17\n",
      "non_injry_cnt                           -5.079661e-17\n",
      "unkn_injry_cnt                          -1.204839e-17\n",
      "tot_injry_cnt                           -6.277063e-17\n",
      "death_cnt                               -2.000628e-17\n",
      "motor_vehicle_death_count                3.837636e-17\n",
      "motor_vehicle_serious_injury_count      -4.209500e-17\n",
      "bicycle_death_count                      4.239249e-18\n",
      "bicycle_serious_injury_count             1.896506e-18\n",
      "pedestrian_death_count                   5.726705e-18\n",
      "pedestrian_serious_injury_count          1.502330e-17\n",
      "motorcycle_death_count                  -2.766668e-17\n",
      "motorcycle_serious_injury_count          4.060754e-17\n",
      "other_death_count                        0.000000e+00\n",
      "other_serious_injury_count              -2.714607e-18\n",
      "micromobility_serious_injury_count       0.000000e+00\n",
      "micromobility_death_count                0.000000e+00\n",
      "law_enforcement_fatality_count          -4.462367e-18\n",
      "severity_incapacitating_injury          -3.272403e-17\n",
      "severity_killed                         -1.175090e-17\n",
      "severity_non_incapacitating_injury      -8.032261e-18\n",
      "severity_not_injured                     5.429213e-18\n",
      "severity_possible_injury                -1.080265e-16\n",
      "severity_unknown                         6.388622e-17\n",
      "unit_involved_bicycle                    6.143192e-17\n",
      "unit_involved_large_passenger_vehicle   -1.279956e-16\n",
      "unit_involved_other_unknown             -2.640234e-18\n",
      "unit_involved_pedestrian                -4.462367e-17\n",
      "hour                                     1.001801e-16\n",
      "day_of_week                             -1.323836e-17\n",
      "month                                   -8.655133e-17\n",
      "year                                     2.048650e-14\n",
      "day_of_month                            -5.726705e-18\n",
      "weekend                                  9.311473e-17\n",
      "hour_sin                                -1.896506e-17\n",
      "hour_cos                                -3.703765e-17\n",
      "month_sin                                2.826166e-18\n",
      "month_cos                                4.640862e-17\n",
      "dtype: float64 std: fatal_crash                              1.0\n",
      "speed_limit                              1.0\n",
      "construction_zone                        1.0\n",
      "sus_serious_injry_cnt                    1.0\n",
      "nonincap_injry_cnt                       1.0\n",
      "poss_injry_cnt                           1.0\n",
      "non_injry_cnt                            1.0\n",
      "unkn_injry_cnt                           1.0\n",
      "tot_injry_cnt                            1.0\n",
      "death_cnt                                1.0\n",
      "motor_vehicle_death_count                1.0\n",
      "motor_vehicle_serious_injury_count       1.0\n",
      "bicycle_death_count                      1.0\n",
      "bicycle_serious_injury_count             1.0\n",
      "pedestrian_death_count                   1.0\n",
      "pedestrian_serious_injury_count          1.0\n",
      "motorcycle_death_count                   1.0\n",
      "motorcycle_serious_injury_count          1.0\n",
      "other_death_count                        0.0\n",
      "other_serious_injury_count               1.0\n",
      "micromobility_serious_injury_count       0.0\n",
      "micromobility_death_count                0.0\n",
      "law_enforcement_fatality_count           1.0\n",
      "severity_incapacitating_injury           1.0\n",
      "severity_killed                          1.0\n",
      "severity_non_incapacitating_injury       1.0\n",
      "severity_not_injured                     1.0\n",
      "severity_possible_injury                 1.0\n",
      "severity_unknown                         1.0\n",
      "unit_involved_bicycle                    1.0\n",
      "unit_involved_large_passenger_vehicle    1.0\n",
      "unit_involved_other_unknown              1.0\n",
      "unit_involved_pedestrian                 1.0\n",
      "hour                                     1.0\n",
      "day_of_week                              1.0\n",
      "month                                    1.0\n",
      "year                                     1.0\n",
      "day_of_month                             1.0\n",
      "weekend                                  1.0\n",
      "hour_sin                                 1.0\n",
      "hour_cos                                 1.0\n",
      "month_sin                                1.0\n",
      "month_cos                                1.0\n",
      "dtype: float64\n",
      "Test after scaler. mean: fatal_crash                              0.011488\n",
      "speed_limit                              0.003803\n",
      "construction_zone                        0.005061\n",
      "sus_serious_injry_cnt                    0.002554\n",
      "nonincap_injry_cnt                      -0.006061\n",
      "poss_injry_cnt                           0.005690\n",
      "non_injry_cnt                            0.005089\n",
      "unkn_injry_cnt                           0.004673\n",
      "tot_injry_cnt                            0.000976\n",
      "death_cnt                                0.013165\n",
      "motor_vehicle_death_count                0.012069\n",
      "motor_vehicle_serious_injury_count       0.004488\n",
      "bicycle_death_count                      0.004486\n",
      "bicycle_serious_injury_count            -0.001547\n",
      "pedestrian_death_count                   0.003094\n",
      "pedestrian_serious_injury_count          0.006288\n",
      "motorcycle_death_count                   0.005234\n",
      "motorcycle_serious_injury_count         -0.007555\n",
      "other_death_count                        0.000000\n",
      "other_serious_injury_count              -0.003235\n",
      "micromobility_serious_injury_count       0.000000\n",
      "micromobility_death_count                0.000000\n",
      "law_enforcement_fatality_count           0.009012\n",
      "severity_incapacitating_injury          -0.001237\n",
      "severity_killed                          0.011488\n",
      "severity_non_incapacitating_injury      -0.005960\n",
      "severity_not_injured                    -0.000302\n",
      "severity_possible_injury                 0.003467\n",
      "severity_unknown                         0.001935\n",
      "unit_involved_bicycle                   -0.001713\n",
      "unit_involved_large_passenger_vehicle   -0.007868\n",
      "unit_involved_other_unknown             -0.002587\n",
      "unit_involved_pedestrian                -0.000301\n",
      "hour                                     0.014195\n",
      "day_of_week                             -0.000945\n",
      "month                                   -0.005414\n",
      "year                                     0.008476\n",
      "day_of_month                             0.008503\n",
      "weekend                                 -0.002587\n",
      "hour_sin                                -0.000624\n",
      "hour_cos                                -0.005783\n",
      "month_sin                                0.010092\n",
      "month_cos                                0.010007\n",
      "dtype: float64 std: fatal_crash                              1.073291e+00\n",
      "speed_limit                              1.000589e+00\n",
      "construction_zone                        1.010208e+00\n",
      "sus_serious_injry_cnt                    9.976736e-01\n",
      "nonincap_injry_cnt                       1.096530e+00\n",
      "poss_injry_cnt                           1.014938e+00\n",
      "non_injry_cnt                            1.027897e+00\n",
      "unkn_injry_cnt                           1.032780e+00\n",
      "tot_injry_cnt                            1.064963e+00\n",
      "death_cnt                                1.104701e+00\n",
      "motor_vehicle_death_count                1.134730e+00\n",
      "motor_vehicle_serious_injury_count       1.022329e+00\n",
      "bicycle_death_count                      1.176648e+00\n",
      "bicycle_serious_injury_count             6.752356e-01\n",
      "pedestrian_death_count                   1.050039e+00\n",
      "pedestrian_serious_injury_count          1.072786e+00\n",
      "motorcycle_death_count                   1.104874e+00\n",
      "motorcycle_serious_injury_count          9.599139e-01\n",
      "other_death_count                        0.000000e+00\n",
      "other_serious_injury_count               8.673617e-19\n",
      "micromobility_serious_injury_count       0.000000e+00\n",
      "micromobility_death_count                0.000000e+00\n",
      "law_enforcement_fatality_count           1.072912e+00\n",
      "severity_incapacitating_injury           9.965724e-01\n",
      "severity_killed                          1.073291e+00\n",
      "severity_non_incapacitating_injury       9.956591e-01\n",
      "severity_not_injured                     9.999835e-01\n",
      "severity_possible_injury                 1.002381e+00\n",
      "severity_unknown                         1.003290e+00\n",
      "unit_involved_bicycle                    9.935444e-01\n",
      "unit_involved_large_passenger_vehicle    1.000999e+00\n",
      "unit_involved_other_unknown              9.919777e-01\n",
      "unit_involved_pedestrian                 9.989803e-01\n",
      "hour                                     9.984511e-01\n",
      "day_of_week                              9.999802e-01\n",
      "month                                    1.004865e+00\n",
      "year                                     9.985694e-01\n",
      "day_of_month                             1.003704e+00\n",
      "weekend                                  9.986004e-01\n",
      "hour_sin                                 1.005363e+00\n",
      "hour_cos                                 1.005838e+00\n",
      "month_sin                                1.008207e+00\n",
      "month_cos                                9.956664e-01\n",
      "dtype: float64\n"
     ]
    }
   ],
   "source": [
    "print(f'Train after scaler. mean: {np.mean(X_train[numeric_cols], axis=0)} std: {np.std(X_train[numeric_cols], axis=0)}')\n",
    "print(f'Test after scaler. mean: {np.mean(X_test[numeric_cols], axis=0)} std: {np.std(X_test[numeric_cols], axis=0)}')"
   ]
  },
  {
   "cell_type": "markdown",
   "metadata": {},
   "source": [
    "## Feature Selection\n",
    "<div id=\"feature-selection\" />\n",
    "\n",
    "We ran the [feature_selection.ipynb](./feature_selection.ipynb) notebook for a preview, and now we will need to drop some features from the dataset."
   ]
  },
  {
   "cell_type": "markdown",
   "metadata": {},
   "source": [
    "After the data split we will be using the **Backward Elimination** method for dropping unsatisfactory features from the dataset."
   ]
  },
  {
   "cell_type": "code",
   "execution_count": 12,
   "metadata": {},
   "outputs": [
    {
     "name": "stdout",
     "output_type": "stream",
     "text": [
      "Removed features: ['month_sin', 'construction_zone', 'motor_vehicle_death_count', 'severity_killed', 'pedestrian_serious_injury_count', 'other_serious_injury_count', 'micromobility_serious_injury_count', 'month', 'bicycle_serious_injury_count', 'severity_not_injured', 'motorcycle_serious_injury_count', 'motor_vehicle_serious_injury_count', 'unit_involved_large_passenger_vehicle', 'severity_incapacitating_injury', 'sus_serious_injry_cnt', 'day_of_month', 'unit_involved_bicycle', 'hour_sin', 'law_enforcement_fatality_count', 'day_of_week', 'unit_involved_other_unknown', 'year', 'unit_involved_passenger_car', 'month_cos', 'bicycle_death_count', 'unit_involved_motorcycle']\n"
     ]
    }
   ],
   "source": [
    "backwards_eliminated_features = backwards_elimination(X_train, y_train)\n",
    "print(f\"Removed features: {backwards_eliminated_features}\")"
   ]
  },
  {
   "cell_type": "code",
   "execution_count": 13,
   "metadata": {},
   "outputs": [
    {
     "name": "stdout",
     "output_type": "stream",
     "text": [
      "Features before backwards elimination: 47\n",
      "Features after backwards elimination: 21\n"
     ]
    }
   ],
   "source": [
    "print(f\"Features before backwards elimination: {len(df.columns)}\")\n",
    "\n",
    "cols = df.columns.tolist()\n",
    "df = df.drop(columns=backwards_eliminated_features)\n",
    "\n",
    "print(f\"Features after backwards elimination: {len(df.columns)}\")"
   ]
  },
  {
   "cell_type": "code",
   "execution_count": 14,
   "metadata": {},
   "outputs": [
    {
     "data": {
      "text/plain": [
       "Index(['fatal_crash', 'speed_limit', 'nonincap_injry_cnt', 'poss_injry_cnt',\n",
       "       'non_injry_cnt', 'unkn_injry_cnt', 'tot_injry_cnt', 'death_cnt',\n",
       "       'pedestrian_death_count', 'motorcycle_death_count', 'other_death_count',\n",
       "       'micromobility_death_count', 'estimated_total_comprehensive_cost',\n",
       "       'severity_non_incapacitating_injury', 'severity_possible_injury',\n",
       "       'severity_unknown', 'unit_involved_motor_vehicle_other',\n",
       "       'unit_involved_pedestrian', 'hour', 'weekend', 'hour_cos'],\n",
       "      dtype='object')"
      ]
     },
     "metadata": {},
     "output_type": "display_data"
    }
   ],
   "source": [
    "display(df.columns)"
   ]
  },
  {
   "cell_type": "markdown",
   "metadata": {},
   "source": [
    "# Models\n",
    "<div id=\"models\" />\n",
    "We will be using the following models:\n",
    "\n",
    "To predict the `estimated_total_comprehensive_cost` we can use:\n",
    "1. Linear Regression\n",
    "2. Ridge Regression\n",
    "3. Lasso Regression\n",
    "4. Decision Tree Regression\n",
    "5. Random Forest Regression\n",
    "6. Support Vector Regression (SVR)\n",
    "7. K-Nearest Neighbors (KNN) Regression"
   ]
  },
  {
   "cell_type": "markdown",
   "metadata": {},
   "source": [
    "## Pipeline\n",
    "\n",
    "The sklearn pipeline will help us creating models."
   ]
  },
  {
   "cell_type": "code",
   "execution_count": 15,
   "metadata": {},
   "outputs": [],
   "source": [
    "preprocessor = None # No preprocessing needed yet, usually we can run feature scaling and feature selection here"
   ]
  },
  {
   "cell_type": "code",
   "execution_count": 16,
   "metadata": {},
   "outputs": [],
   "source": [
    "models = {\n",
    "    'linear_regression': Pipeline([\n",
    "        ('preprocessor', preprocessor),\n",
    "        ('regressor', LinearRegression())\n",
    "    ]),\n",
    "    \"ridge_regression\": Pipeline([\n",
    "        ('preprocessor', preprocessor),\n",
    "        ('regressor', Ridge(alpha=1.0))\n",
    "    ]),\n",
    "    \"lasso_regression\": Pipeline([\n",
    "        ('preprocessor', preprocessor),\n",
    "        ('regressor', Lasso(alpha=0.1))\n",
    "    ]),\n",
    "    \"decision_tree_regressor\": Pipeline([\n",
    "        ('preprocessor', preprocessor),\n",
    "        ('regressor', DecisionTreeRegressor(random_state=RANDOM_SEED))\n",
    "    ]),\n",
    "    \"random_forest_regressor\": Pipeline([\n",
    "        ('preprocessor', preprocessor),\n",
    "        ('regressor', RandomForestRegressor(n_estimators=100, random_state=42))\n",
    "    ]),\n",
    "    # SVR needs a better hardware\n",
    "    \"svr\": Pipeline([\n",
    "        ('preprocessor', preprocessor),\n",
    "        ('regressor', SVR(kernel='rbf', C=1.0, epsilon=0.1))\n",
    "    ]),\n",
    "    \"k_neighbors_regressor\": Pipeline([\n",
    "        ('preprocessor', preprocessor),\n",
    "        ('regressor', KNeighborsRegressor(n_neighbors=90, n_jobs=-1))\n",
    "    ])\n",
    "}"
   ]
  },
  {
   "cell_type": "markdown",
   "metadata": {},
   "source": [
    "### Validation Set\n",
    "\n",
    "On the validation set we will be training the models and then we will be using the test set to evaluate the models."
   ]
  },
  {
   "cell_type": "code",
   "execution_count": 17,
   "metadata": {},
   "outputs": [
    {
     "name": "stdout",
     "output_type": "stream",
     "text": [
      "Training linear_regression\n",
      "Executed in 0.1418 seconds\n",
      "linear_regression Scores:\n",
      "MAE: 596.9370 MSE: 6163872.5262 RMSE: 2482.7147 RMSE%: 0.81% R^2: 1.0000\n",
      "\n",
      "Training ridge_regression\n",
      "Executed in 0.0424 seconds\n",
      "ridge_regression Scores:\n",
      "MAE: 597.4020 MSE: 6163891.9397 RMSE: 2482.7187 RMSE%: 0.81% R^2: 1.0000\n",
      "\n",
      "Training lasso_regression\n",
      "Executed in 0.3491 seconds\n",
      "lasso_regression Scores:\n",
      "MAE: 600.0804 MSE: 6233238.1675 RMSE: 2496.6454 RMSE%: 0.82% R^2: 1.0000\n",
      "\n",
      "Training decision_tree_regressor\n",
      "Executed in 0.3333 seconds\n",
      "decision_tree_regressor Scores:\n",
      "MAE: 1041.5751 MSE: 2378662940.4007 RMSE: 48771.5382 RMSE%: 15.98% R^2: 0.9953\n",
      "\n",
      "Training random_forest_regressor\n",
      "Executed in 15.9452 seconds\n",
      "random_forest_regressor Scores:\n",
      "MAE: 903.7116 MSE: 1007878969.4153 RMSE: 31747.1096 RMSE%: 10.40% R^2: 0.9980\n",
      "\n",
      "Training svr\n",
      "Executed in 503.1431 seconds\n",
      "svr Scores:\n",
      "MAE: 258236.7713 MSE: 556524423556.0162 RMSE: 746005.6458 RMSE%: 244.50% R^2: -0.0886\n",
      "\n",
      "Training k_neighbors_regressor\n",
      "Executed in 0.0360 seconds\n",
      "k_neighbors_regressor Scores:\n",
      "MAE: 32225.2891 MSE: 24625412594.7945 RMSE: 156924.8629 RMSE%: 51.43% R^2: 0.9518\n",
      "\n"
     ]
    }
   ],
   "source": [
    "\n",
    "validation_results = {}\n",
    "for model_name, model_pipeline in models.items():\n",
    "    print(f\"Training {model_name}\")\n",
    "    with Timer():\n",
    "        model_pipeline.fit(X_train, y_train)\n",
    "\n",
    "    y_hat = model_pipeline.predict(X_val)\n",
    "\n",
    "    validation_results[model_name] = y_hat\n",
    "\n",
    "    metrics_dict = print_linear_regression_scores(model_name, y_val, y_hat)\n",
    "    print()\n",
    "    validation_results[model_name] = {\"y_hat\": y_hat, **metrics_dict}"
   ]
  },
  {
   "cell_type": "markdown",
   "metadata": {},
   "source": [
    "### Grid Search for hyperparameters tuning\n",
    "\n",
    "We will be using the `GridSearchCV` method to find the best hyperparameters for our models."
   ]
  },
  {
   "cell_type": "code",
   "execution_count": 18,
   "metadata": {},
   "outputs": [],
   "source": [
    "param_grids = {\n",
    "    'linear_regression': {},\n",
    "    'ridge_regression': {\n",
    "        'regressor__alpha': [0.1, 1.0, 10.0]\n",
    "    },\n",
    "    'lasso_regression': {\n",
    "        'regressor__alpha': [0.1, 1.0, 10.0]\n",
    "    }, \n",
    "    'decision_tree_regressor': {\n",
    "        'regressor__max_depth': [3,5,10],                         \n",
    "        'regressor__min_samples_split':[2,5,10]\n",
    "    },\n",
    "    'random_forest_regressor': {\n",
    "        'regressor__n_estimators':[50, 100, 200],\n",
    "        'regressor__max_depth':[3,5,10]\n",
    "    }, \n",
    "    'srv': {\n",
    "        'regressor__C': [0.1, 1.0, 10.0], # penalty parameter\n",
    "        'regressor__epsilon': [0.1, 0.2, 0.5], # no pentaly if error is within epsilon\n",
    "        'regressor__kernel': ['linear', 'rbf']\n",
    "    }, \n",
    "    'k_neighbors_regressor': {\n",
    "        'regressor__n_neighbors': [3,5,10], # how many neighbors to look at \n",
    "        'regressor__weights': ['uniform', 'distance'] # how to weight neighbors\n",
    "    }\n",
    "}"
   ]
  },
  {
   "cell_type": "code",
   "execution_count": 19,
   "metadata": {},
   "outputs": [
    {
     "name": "stdout",
     "output_type": "stream",
     "text": [
      "Models with grid search:\n",
      " {'linear_regression': GridSearchCV(cv=5,\n",
      "             estimator=Pipeline(steps=[('preprocessor', None),\n",
      "                                       ('regressor', LinearRegression())]),\n",
      "             n_jobs=-1, param_grid={}, scoring='neg_mean_squared_error'), 'ridge_regression': GridSearchCV(cv=5,\n",
      "             estimator=Pipeline(steps=[('preprocessor', None),\n",
      "                                       ('regressor', Ridge())]),\n",
      "             n_jobs=-1, param_grid={'regressor__alpha': [0.1, 1.0, 10.0]},\n",
      "             scoring='neg_mean_squared_error'), 'lasso_regression': GridSearchCV(cv=5,\n",
      "             estimator=Pipeline(steps=[('preprocessor', None),\n",
      "                                       ('regressor', Lasso(alpha=0.1))]),\n",
      "             n_jobs=-1, param_grid={'regressor__alpha': [0.1, 1.0, 10.0]},\n",
      "             scoring='neg_mean_squared_error'), 'decision_tree_regressor': GridSearchCV(cv=5,\n",
      "             estimator=Pipeline(steps=[('preprocessor', None),\n",
      "                                       ('regressor',\n",
      "                                        DecisionTreeRegressor(random_state=42))]),\n",
      "             n_jobs=-1,\n",
      "             param_grid={'regressor__max_depth': [3, 5, 10],\n",
      "                         'regressor__min_samples_split': [2, 5, 10]},\n",
      "             scoring='neg_mean_squared_error'), 'random_forest_regressor': GridSearchCV(cv=5,\n",
      "             estimator=Pipeline(steps=[('preprocessor', None),\n",
      "                                       ('regressor',\n",
      "                                        RandomForestRegressor(random_state=42))]),\n",
      "             n_jobs=-1,\n",
      "             param_grid={'regressor__max_depth': [3, 5, 10],\n",
      "                         'regressor__n_estimators': [50, 100, 200]},\n",
      "             scoring='neg_mean_squared_error'), 'svr': GridSearchCV(cv=5,\n",
      "             estimator=Pipeline(steps=[('preprocessor', None),\n",
      "                                       ('regressor', SVR())]),\n",
      "             n_jobs=-1, param_grid={}, scoring='neg_mean_squared_error'), 'k_neighbors_regressor': GridSearchCV(cv=5,\n",
      "             estimator=Pipeline(steps=[('preprocessor', None),\n",
      "                                       ('regressor',\n",
      "                                        KNeighborsRegressor(n_jobs=-1,\n",
      "                                                            n_neighbors=90))]),\n",
      "             n_jobs=-1,\n",
      "             param_grid={'regressor__n_neighbors': [3, 5, 10],\n",
      "                         'regressor__weights': ['uniform', 'distance']},\n",
      "             scoring='neg_mean_squared_error')}\n"
     ]
    }
   ],
   "source": [
    "models_with_gridsearch = {}\n",
    "\n",
    "for model_name, model_pipeline in models.items(): \n",
    "    param_grid = param_grids.get(model_name, {})\n",
    "    \n",
    "    grid_search = GridSearchCV(\n",
    "        estimator = model_pipeline, \n",
    "        param_grid = param_grid, \n",
    "        cv = 5, \n",
    "        n_jobs = -1, \n",
    "        scoring = 'neg_mean_squared_error'\n",
    "    )\n",
    "    \n",
    "    models_with_gridsearch[model_name] = grid_search\n",
    "\n",
    "print(f\"Models with grid search:\\n {models_with_gridsearch}\")"
   ]
  },
  {
   "cell_type": "code",
   "execution_count": 20,
   "metadata": {},
   "outputs": [
    {
     "name": "stdout",
     "output_type": "stream",
     "text": [
      "Fitting linear_regression with GridSearchCV\n",
      "Executed in 3.5117 seconds\n",
      "linear_regression Scores:\n",
      "MAE: 596.9370 MSE: 6163872.5262 RMSE: 2482.7147 RMSE%: 0.81% R^2: 1.0000\n",
      "Best params for linear_regression: {}\n",
      "Best score for linear_regression: -26389149.68813243\n",
      "\n",
      "Fitting ridge_regression with GridSearchCV\n",
      "Executed in 1.8320 seconds\n",
      "ridge_regression Scores:\n",
      "MAE: 597.4020 MSE: 6163891.9397 RMSE: 2482.7187 RMSE%: 0.81% R^2: 1.0000\n",
      "Best params for ridge_regression: {'regressor__alpha': 1.0}\n",
      "Best score for ridge_regression: -26387326.494386908\n",
      "\n",
      "Fitting lasso_regression with GridSearchCV\n",
      "Executed in 2.3009 seconds\n",
      "lasso_regression Scores:\n",
      "MAE: 603.6336 MSE: 6237030.9737 RMSE: 2497.4048 RMSE%: 0.82% R^2: 1.0000\n",
      "Best params for lasso_regression: {'regressor__alpha': 10.0}\n",
      "Best score for lasso_regression: -5402169.726188124\n",
      "\n",
      "Fitting decision_tree_regressor with GridSearchCV\n",
      "Executed in 3.9369 seconds\n",
      "decision_tree_regressor Scores:\n",
      "MAE: 1323.0941 MSE: 584700146.6969 RMSE: 24180.5737 RMSE%: 7.92% R^2: 0.9989\n",
      "Best params for decision_tree_regressor: {'regressor__max_depth': 10, 'regressor__min_samples_split': 5}\n",
      "Best score for decision_tree_regressor: -6589545054.06251\n",
      "\n",
      "Fitting random_forest_regressor with GridSearchCV\n",
      "Executed in 122.3365 seconds\n",
      "random_forest_regressor Scores:\n",
      "MAE: 1209.4446 MSE: 861474920.0305 RMSE: 29350.8930 RMSE%: 9.62% R^2: 0.9983\n",
      "Best params for random_forest_regressor: {'regressor__max_depth': 10, 'regressor__n_estimators': 200}\n",
      "Best score for random_forest_regressor: -11248157692.95461\n",
      "\n",
      "Fitting svr with GridSearchCV\n",
      "Executed in 1126.2452 seconds\n",
      "svr Scores:\n",
      "MAE: 258236.7713 MSE: 556524423556.0162 RMSE: 746005.6458 RMSE%: 244.50% R^2: -0.0886\n",
      "Best params for svr: {}\n",
      "Best score for svr: -595404960828.6532\n",
      "\n",
      "Fitting k_neighbors_regressor with GridSearchCV\n",
      "Executed in 34.4116 seconds\n",
      "k_neighbors_regressor Scores:\n",
      "MAE: 15249.3379 MSE: 4779364029.4319 RMSE: 69132.9446 RMSE%: 22.66% R^2: 0.9907\n",
      "Best params for k_neighbors_regressor: {'regressor__n_neighbors': 3, 'regressor__weights': 'distance'}\n",
      "Best score for k_neighbors_regressor: -19285844963.748344\n",
      "\n"
     ]
    }
   ],
   "source": [
    "hyperparameter_results = {}\n",
    "for model_name, grid_search in models_with_gridsearch.items(): \n",
    "    print(f\"Fitting {model_name} with GridSearchCV\")\n",
    "    with Timer():\n",
    "        grid_search.fit(X_train, y_train)\n",
    "\n",
    "    y_hat = grid_search.predict(X_val)\n",
    "\n",
    "    metrics_dict = print_linear_regression_scores(model_name, y_val, y_hat)\n",
    "    print(f'Best params for {model_name}: {grid_search.best_params_}')\n",
    "    print(f'Best score for {model_name}: {grid_search.best_score_}')\n",
    "    print()\n",
    "    hyperparameter_results[model_name] = {\n",
    "        \"y_hat\": y_hat, \n",
    "        \"params\": grid_search.best_params_, \n",
    "        \"scores\": grid_search.best_score_, \n",
    "        **metrics_dict\n",
    "    }\n"
   ]
  },
  {
   "cell_type": "markdown",
   "metadata": {},
   "source": [
    "### Hyperparameter tuning\n",
    "\n",
    "We will be using the `GridSearchCV` method to find the best hyperparameters for our models."
   ]
  },
  {
   "cell_type": "code",
   "execution_count": 21,
   "metadata": {},
   "outputs": [
    {
     "name": "stdout",
     "output_type": "stream",
     "text": [
      "Setting ridge_regression regressor__alpha to 1.0\n",
      "Setting lasso_regression regressor__alpha to 10.0\n",
      "Setting decision_tree_regressor regressor__max_depth to 10\n",
      "Setting decision_tree_regressor regressor__min_samples_split to 5\n",
      "Setting random_forest_regressor regressor__max_depth to 10\n",
      "Setting random_forest_regressor regressor__n_estimators to 200\n",
      "Setting k_neighbors_regressor regressor__n_neighbors to 3\n",
      "Setting k_neighbors_regressor regressor__weights to distance\n"
     ]
    }
   ],
   "source": [
    "# Example of setting a hyperparameter for a model\n",
    "# models['k_neighbors_regressor'].set_params(regressor__n_neighbors=200)\n",
    "\n",
    "for model_name in hyperparameter_results:\n",
    "    for param_name, param_value in hyperparameter_results[model_name]['params'].items():\n",
    "        print(f\"Setting {model_name} {param_name} to {param_value}\")\n",
    "        models[model_name].set_params(**{param_name: param_value})"
   ]
  },
  {
   "cell_type": "markdown",
   "metadata": {},
   "source": [
    "### Testing Set\n",
    "\n",
    "Now we can adjust the models to the test set and evaluate them."
   ]
  },
  {
   "cell_type": "code",
   "execution_count": 22,
   "metadata": {},
   "outputs": [
    {
     "name": "stdout",
     "output_type": "stream",
     "text": [
      "Training linear_regression\n",
      "Executed in 0.1368 seconds\n",
      "linear_regression Scores:\n",
      "MAE: 567.2117 MSE: 4126473.4143 RMSE: 2031.3723 RMSE%: 0.65% R^2: 1.0000\n",
      "\n",
      "Training ridge_regression\n",
      "Executed in 0.1048 seconds\n",
      "ridge_regression Scores:\n",
      "MAE: 567.7651 MSE: 4127465.3063 RMSE: 2031.6164 RMSE%: 0.65% R^2: 1.0000\n",
      "\n",
      "Training lasso_regression\n",
      "Executed in 0.3092 seconds\n",
      "lasso_regression Scores:\n",
      "MAE: 577.0529 MSE: 4196869.4865 RMSE: 2048.6262 RMSE%: 0.66% R^2: 1.0000\n",
      "\n",
      "Training decision_tree_regressor\n",
      "Executed in 0.3100 seconds\n",
      "decision_tree_regressor Scores:\n",
      "MAE: 2319.3195 MSE: 7758868954.3191 RMSE: 88084.4422 RMSE%: 28.16% R^2: 0.9871\n",
      "\n",
      "Training random_forest_regressor\n",
      "Executed in 26.0065 seconds\n",
      "random_forest_regressor Scores:\n",
      "MAE: 2188.0785 MSE: 8259133836.7700 RMSE: 90879.7768 RMSE%: 29.06% R^2: 0.9862\n",
      "\n",
      "Training svr\n",
      "Executed in 491.3659 seconds\n",
      "svr Scores:\n",
      "MAE: 266270.5423 MSE: 648597134004.6821 RMSE: 805355.2843 RMSE%: 257.50% R^2: -0.0811\n",
      "\n",
      "Training k_neighbors_regressor\n",
      "Executed in 0.0177 seconds\n",
      "k_neighbors_regressor Scores:\n",
      "MAE: 16577.7137 MSE: 13057585434.6524 RMSE: 114269.7923 RMSE%: 36.54% R^2: 0.9782\n",
      "\n"
     ]
    }
   ],
   "source": [
    "testing_results = {}\n",
    "\n",
    "for model_name, model_pipeline in models.items():\n",
    "    print(f\"Training {model_name}\")\n",
    "\n",
    "    with Timer():\n",
    "        model_pipeline.fit(X_train, y_train)\n",
    "\n",
    "    y_hat = model_pipeline.predict(X_test)\n",
    "\n",
    "    testing_results[model_name] = y_hat\n",
    "\n",
    "    metrics_dict = print_linear_regression_scores(model_name, y_test, y_hat)\n",
    "    print()\n",
    "    testing_results[model_name] = {\"y_hat\": y_hat, **metrics_dict}"
   ]
  },
  {
   "cell_type": "markdown",
   "metadata": {},
   "source": [
    "# Conclusion\n",
    "<div id=\"conclusion\" />\n",
    "\n",
    "In this project we have gone over the dataset and created a model to predict the `estimated_total_comprehensive_cost` of a car crash in Austin, Texas. We have used different models and evaluated them using the test set. The best model was the Random Forest Regression with an R2 score of 0.85."
   ]
  },
  {
   "cell_type": "markdown",
   "metadata": {},
   "source": [
    "### Saving results"
   ]
  },
  {
   "cell_type": "code",
   "execution_count": 23,
   "metadata": {},
   "outputs": [],
   "source": [
    "data = (validation_results, hyperparameter_results, testing_results)\n",
    "\n",
    "filename = './data/notebook_data.pkl'\n",
    "Pickler(filename).save(data)"
   ]
  }
 ],
 "metadata": {
  "kernelspec": {
   "display_name": "Python 3",
   "language": "python",
   "name": "python3"
  },
  "language_info": {
   "codemirror_mode": {
    "name": "ipython",
    "version": 3
   },
   "file_extension": ".py",
   "mimetype": "text/x-python",
   "name": "python",
   "nbconvert_exporter": "python",
   "pygments_lexer": "ipython3",
   "version": "3.12.6"
  }
 },
 "nbformat": 4,
 "nbformat_minor": 2
}
