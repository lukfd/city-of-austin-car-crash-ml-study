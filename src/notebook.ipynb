{
 "cells": [
  {
   "cell_type": "markdown",
   "metadata": {},
   "source": [
    "# Austin's Car Crash\n",
    "#### By: Luca Comba, Hung Tran, Steven Tran\n",
    "\n",
    "<img src=\"https://upload.wikimedia.org/wikipedia/en/thumb/a/a0/Seal_of_Austin%2C_TX.svg/1024px-Seal_of_Austin%2C_TX.svg.png\" width=\"100\" height=\"100\">\n",
    "\n",
    "#### Table of Contents\n",
    "1. [Introduction](#introduction)\n",
    "2. [Data](#data)\n",
    "3. [Models](#models)\n",
    "4. [Conclusion](#conclusion)\n"
   ]
  },
  {
   "cell_type": "code",
   "execution_count": 1,
   "metadata": {},
   "outputs": [],
   "source": [
    "# imports\n",
    "import pandas as pd\n",
    "import numpy as np\n",
    "\n",
    "from sklearn.model_selection import train_test_split\n",
    "from sklearn.preprocessing import StandardScaler\n",
    "from sklearn.pipeline import make_pipeline\n",
    "from sklearn.linear_model import LinearRegression\n",
    "from sklearn.metrics import mean_squared_error, r2_score\n",
    "\n",
    "RANDOM_SEED=42"
   ]
  },
  {
   "cell_type": "code",
   "execution_count": 2,
   "metadata": {},
   "outputs": [],
   "source": [
    "# read data\n",
    "df = pd.read_csv('data/austin_car_crash_cleaned.csv')"
   ]
  },
  {
   "cell_type": "markdown",
   "metadata": {},
   "source": [
    "# Introduction\n",
    "\n",
    "<div id=\"introduction\" />\n",
    "\n",
    "The original dataset includes records of traffic accidents in Austin, Texas, from 2010 to today, with 216,088 instances and 45 features, including both numerical and categorical data. The dataset can be found at [Austin Crash Report Data](https://catalog.data.gov/dataset/vision-zero-crash-report-data)."
   ]
  },
  {
   "cell_type": "markdown",
   "metadata": {},
   "source": [
    "# Data\n",
    "<div id=\"data\" />\n",
    "\n",
    "In the following section we will set up the dataset and the features we will be using for our models."
   ]
  },
  {
   "cell_type": "markdown",
   "metadata": {},
   "source": [
    "## Data Cleaning\n",
    "\n",
    "We went over the dataset cleansing in the file [cleaning.ipynb](./cleaning.ipynb).\n"
   ]
  },
  {
   "cell_type": "markdown",
   "metadata": {},
   "source": [
    "## Exploratory Data Analysis\n",
    "\n",
    "We went over the exploratory data analysis in the file [exploratory.ipynb](./exploratory.ipynb)."
   ]
  },
  {
   "cell_type": "markdown",
   "metadata": {},
   "source": [
    "## Feature Selection\n",
    "<div id=\"feature-selection\" />\n",
    "\n",
    "After running the [feature_selection.ipynb](./feature_selection.ipynb) notebook we will need to drop some features from the dataset.\n",
    "\n",
    "We will be dropping the `primary_address`, `secondary_address`, `latitude`, `longitude`, and `timestamp_us_central` due to their types."
   ]
  },
  {
   "cell_type": "code",
   "execution_count": 3,
   "metadata": {},
   "outputs": [],
   "source": [
    "df = df.drop(columns=['primary_address', 'secondary_address', 'timestamp_us_central', 'latitude', 'longitude'])"
   ]
  },
  {
   "cell_type": "markdown",
   "metadata": {},
   "source": [
    "## Split"
   ]
  },
  {
   "cell_type": "code",
   "execution_count": 4,
   "metadata": {},
   "outputs": [],
   "source": [
    "# Define the target column\n",
    "target_col = 'estimated_total_comprehensive_cost'\n",
    "\n",
    "# Split into features (X) and target (y)\n",
    "X = df.drop(columns=[target_col])\n",
    "y = df[target_col]"
   ]
  },
  {
   "cell_type": "code",
   "execution_count": 5,
   "metadata": {},
   "outputs": [],
   "source": [
    "# Split 60-20-20 train-validation-test sets\n",
    "X_train, X_test, y_train, y_test = train_test_split(X, y, test_size=0.2, random_state=RANDOM_SEED)\n",
    "X_train, X_val, y_train, y_val = train_test_split(X_train, y_train, test_size=0.25, random_state=RANDOM_SEED)"
   ]
  },
  {
   "cell_type": "markdown",
   "metadata": {},
   "source": [
    "## Feature Scaling"
   ]
  },
  {
   "cell_type": "code",
   "execution_count": 6,
   "metadata": {},
   "outputs": [
    {
     "name": "stdout",
     "output_type": "stream",
     "text": [
      "Numeric columns: ['speed_limit', 'sus_serious_injry_cnt', 'nonincap_injry_cnt', 'poss_injry_cnt', 'non_injry_cnt', 'unkn_injry_cnt', 'tot_injry_cnt', 'death_cnt', 'motor_vehicle_death_count', 'motor_vehicle_serious_injury_count', 'bicycle_death_count', 'bicycle_serious_injury_count', 'pedestrian_death_count', 'pedestrian_serious_injury_count', 'motorcycle_death_count', 'motorcycle_serious_injury_count', 'other_death_count', 'other_serious_injury_count', 'micromobility_serious_injury_count', 'micromobility_death_count', 'law_enforcement_fatality_count', 'unit_involved_bicycle', 'unit_involved_large_passenger_vehicle', 'unit_involved_motor_vehicle_other', 'unit_involved_motorcycle', 'unit_involved_other_unknown', 'unit_involved_passenger_car', 'unit_involved_pedestrian', 'hour', 'day_of_week', 'month', 'year', 'day_of_month', 'weekend', 'hour_sin', 'hour_cos', 'month_sin', 'month_cos']\n"
     ]
    }
   ],
   "source": [
    "# Select numeric columns\n",
    "numeric_cols = X_train.select_dtypes(include=[np.number]).columns.tolist()\n",
    "\n",
    "print(f\"Numeric columns: {numeric_cols}\")"
   ]
  },
  {
   "cell_type": "code",
   "execution_count": 7,
   "metadata": {},
   "outputs": [],
   "source": [
    "cols_to_remove = [\n",
    "    'unit_involved_bicycle',\n",
    "    'unit_involved_large_passenger_vehicle',\n",
    "    'unit_involved_motor_vehicle_other',\n",
    "    'unit_involved_motorcycle',\n",
    "    'unit_involved_other_unknown',\n",
    "    'unit_involved_passenger_car',\n",
    "    'unit_involved_pedestrian',\n",
    "]\n",
    "\n",
    "for col in cols_to_remove:\n",
    "    numeric_cols.remove(col)"
   ]
  },
  {
   "cell_type": "code",
   "execution_count": 8,
   "metadata": {},
   "outputs": [
    {
     "name": "stdout",
     "output_type": "stream",
     "text": [
      "Categorical columns: ['fatal_crash', 'construction_zone', 'severity_incapacitating_injury', 'severity_killed', 'severity_non_incapacitating_injury', 'severity_not_injured', 'severity_possible_injury', 'severity_unknown']\n"
     ]
    }
   ],
   "source": [
    "# Select categorical columns\n",
    "categorical_cols = X_train.select_dtypes(exclude=[np.number]).columns.tolist()\n",
    "print(f\"Categorical columns: {categorical_cols}\")"
   ]
  },
  {
   "cell_type": "code",
   "execution_count": 9,
   "metadata": {},
   "outputs": [
    {
     "name": "stdout",
     "output_type": "stream",
     "text": [
      "Train after scaler. mean: speed_limit                             45.911993\n",
      "sus_serious_injry_cnt                    0.034929\n",
      "nonincap_injry_cnt                       0.284557\n",
      "poss_injry_cnt                           0.358758\n",
      "non_injry_cnt                            1.848982\n",
      "unkn_injry_cnt                           0.109255\n",
      "tot_injry_cnt                            0.678243\n",
      "death_cnt                                0.005788\n",
      "motor_vehicle_death_count                0.002899\n",
      "motor_vehicle_serious_injury_count       0.024441\n",
      "bicycle_death_count                      0.000136\n",
      "bicycle_serious_injury_count             0.001790\n",
      "pedestrian_death_count                   0.001874\n",
      "pedestrian_serious_injury_count          0.003517\n",
      "motorcycle_death_count                   0.000879\n",
      "motorcycle_serious_injury_count          0.005171\n",
      "other_death_count                        0.000000\n",
      "other_serious_injury_count               0.000010\n",
      "micromobility_serious_injury_count       0.000000\n",
      "micromobility_death_count                0.000000\n",
      "law_enforcement_fatality_count           0.003140\n",
      "hour                                    12.880414\n",
      "day_of_week                              2.972597\n",
      "month                                    6.514026\n",
      "year                                  2017.083715\n",
      "day_of_month                            15.546704\n",
      "weekend                                  0.262670\n",
      "hour_sin                                -0.156446\n",
      "hour_cos                                -0.190531\n",
      "month_sin                               -0.003882\n",
      "month_cos                                0.010656\n",
      "dtype: float64 std: speed_limit                           12.681201\n",
      "sus_serious_injry_cnt                  0.216799\n",
      "nonincap_injry_cnt                     0.643845\n",
      "poss_injry_cnt                         0.754040\n",
      "non_injry_cnt                          1.675248\n",
      "unkn_injry_cnt                         0.386797\n",
      "tot_injry_cnt                          0.965032\n",
      "death_cnt                              0.080284\n",
      "motor_vehicle_death_count              0.058967\n",
      "motor_vehicle_serious_injury_count     0.186413\n",
      "bicycle_death_count                    0.011664\n",
      "bicycle_serious_injury_count           0.060931\n",
      "pedestrian_death_count                 0.043965\n",
      "pedestrian_serious_injury_count        0.059902\n",
      "motorcycle_death_count                 0.029990\n",
      "motorcycle_serious_injury_count        0.073452\n",
      "other_death_count                      0.000000\n",
      "other_serious_injury_count             0.003235\n",
      "micromobility_serious_injury_count     0.000000\n",
      "micromobility_death_count              0.000000\n",
      "law_enforcement_fatality_count         0.059220\n",
      "hour                                   6.002362\n",
      "day_of_week                            1.937142\n",
      "month                                  3.463778\n",
      "year                                   4.308177\n",
      "day_of_month                           8.756185\n",
      "weekend                                0.440085\n",
      "hour_sin                               0.702499\n",
      "hour_cos                               0.667621\n",
      "month_sin                              0.711017\n",
      "month_cos                              0.703083\n",
      "dtype: float64\n",
      "Test after scaler. mean: speed_limit                             45.960216\n",
      "sus_serious_injry_cnt                    0.035482\n",
      "nonincap_injry_cnt                       0.280654\n",
      "poss_injry_cnt                           0.363048\n",
      "non_injry_cnt                            1.857506\n",
      "unkn_injry_cnt                           0.111062\n",
      "tot_injry_cnt                            0.679185\n",
      "death_cnt                                0.006845\n",
      "motor_vehicle_death_count                0.003611\n",
      "motor_vehicle_serious_injury_count       0.025277\n",
      "bicycle_death_count                      0.000188\n",
      "bicycle_serious_injury_count             0.001696\n",
      "pedestrian_death_count                   0.002010\n",
      "pedestrian_serious_injury_count          0.003894\n",
      "motorcycle_death_count                   0.001036\n",
      "motorcycle_serious_injury_count          0.004616\n",
      "other_death_count                        0.000000\n",
      "other_serious_injury_count               0.000000\n",
      "micromobility_serious_injury_count       0.000000\n",
      "micromobility_death_count                0.000000\n",
      "law_enforcement_fatality_count           0.003674\n",
      "hour                                    12.965617\n",
      "day_of_week                              2.970766\n",
      "month                                    6.495274\n",
      "year                                  2017.120231\n",
      "day_of_month                            15.621157\n",
      "weekend                                  0.261532\n",
      "hour_sin                                -0.164914\n",
      "hour_cos                                -0.189543\n",
      "month_sin                                0.002820\n",
      "month_cos                                0.017152\n",
      "dtype: float64 std: speed_limit                           12.688664\n",
      "sus_serious_injry_cnt                  0.216294\n",
      "nonincap_injry_cnt                     0.705996\n",
      "poss_injry_cnt                         0.765303\n",
      "non_injry_cnt                          1.721981\n",
      "unkn_injry_cnt                         0.399476\n",
      "tot_injry_cnt                          1.027722\n",
      "death_cnt                              0.088690\n",
      "motor_vehicle_death_count              0.066912\n",
      "motor_vehicle_serious_injury_count     0.190576\n",
      "bicycle_death_count                    0.013725\n",
      "bicycle_serious_injury_count           0.041143\n",
      "pedestrian_death_count                 0.046165\n",
      "pedestrian_serious_injury_count        0.064262\n",
      "motorcycle_death_count                 0.033135\n",
      "motorcycle_serious_injury_count        0.070508\n",
      "other_death_count                      0.000000\n",
      "other_serious_injury_count             0.000000\n",
      "micromobility_serious_injury_count     0.000000\n",
      "micromobility_death_count              0.000000\n",
      "law_enforcement_fatality_count         0.063538\n",
      "hour                                   5.993065\n",
      "day_of_week                            1.937104\n",
      "month                                  3.480628\n",
      "year                                   4.302014\n",
      "day_of_month                           8.788618\n",
      "weekend                                0.439469\n",
      "hour_sin                               0.699679\n",
      "hour_cos                               0.668824\n",
      "month_sin                              0.712112\n",
      "month_cos                              0.701850\n",
      "dtype: float64\n"
     ]
    }
   ],
   "source": [
    "print(f'Train after scaler. mean: {np.mean(X_train[numeric_cols], axis=0)} std: {np.std(X_train[numeric_cols], axis=0)}')\n",
    "print(f'Test after scaler. mean: {np.mean(X_test[numeric_cols], axis=0)} std: {np.std(X_test[numeric_cols], axis=0)}')"
   ]
  },
  {
   "cell_type": "code",
   "execution_count": 10,
   "metadata": {},
   "outputs": [],
   "source": [
    "# Scale numeric features\n",
    "scaler = StandardScaler()\n",
    "X_train[numeric_cols] = scaler.fit_transform(X_train[numeric_cols])\n",
    "X_val[numeric_cols] = scaler.transform(X_val[numeric_cols])\n",
    "X_test[numeric_cols] = scaler.transform(X_test[numeric_cols])"
   ]
  },
  {
   "cell_type": "code",
   "execution_count": 11,
   "metadata": {},
   "outputs": [
    {
     "name": "stdout",
     "output_type": "stream",
     "text": [
      "Train after scaler. mean: speed_limit                          -1.463656e-16\n",
      "sus_serious_injry_cnt                -1.517205e-17\n",
      "nonincap_injry_cnt                   -7.467028e-17\n",
      "poss_injry_cnt                        6.098569e-17\n",
      "non_injry_cnt                        -5.079661e-17\n",
      "unkn_injry_cnt                       -1.204839e-17\n",
      "tot_injry_cnt                        -6.277063e-17\n",
      "death_cnt                            -2.000628e-17\n",
      "motor_vehicle_death_count             3.837636e-17\n",
      "motor_vehicle_serious_injury_count   -4.209500e-17\n",
      "bicycle_death_count                   4.239249e-18\n",
      "bicycle_serious_injury_count          1.896506e-18\n",
      "pedestrian_death_count                5.726705e-18\n",
      "pedestrian_serious_injury_count       1.502330e-17\n",
      "motorcycle_death_count               -2.766668e-17\n",
      "motorcycle_serious_injury_count       4.060754e-17\n",
      "other_death_count                     0.000000e+00\n",
      "other_serious_injury_count           -2.714607e-18\n",
      "micromobility_serious_injury_count    0.000000e+00\n",
      "micromobility_death_count             0.000000e+00\n",
      "law_enforcement_fatality_count       -4.462367e-18\n",
      "hour                                  1.001801e-16\n",
      "day_of_week                          -1.323836e-17\n",
      "month                                -8.655133e-17\n",
      "year                                  2.048650e-14\n",
      "day_of_month                         -5.726705e-18\n",
      "weekend                               9.311473e-17\n",
      "hour_sin                              8.181007e-18\n",
      "hour_cos                              3.019535e-17\n",
      "month_sin                             1.554391e-17\n",
      "month_cos                             1.993191e-17\n",
      "dtype: float64 std: speed_limit                           1.0\n",
      "sus_serious_injry_cnt                 1.0\n",
      "nonincap_injry_cnt                    1.0\n",
      "poss_injry_cnt                        1.0\n",
      "non_injry_cnt                         1.0\n",
      "unkn_injry_cnt                        1.0\n",
      "tot_injry_cnt                         1.0\n",
      "death_cnt                             1.0\n",
      "motor_vehicle_death_count             1.0\n",
      "motor_vehicle_serious_injury_count    1.0\n",
      "bicycle_death_count                   1.0\n",
      "bicycle_serious_injury_count          1.0\n",
      "pedestrian_death_count                1.0\n",
      "pedestrian_serious_injury_count       1.0\n",
      "motorcycle_death_count                1.0\n",
      "motorcycle_serious_injury_count       1.0\n",
      "other_death_count                     0.0\n",
      "other_serious_injury_count            1.0\n",
      "micromobility_serious_injury_count    0.0\n",
      "micromobility_death_count             0.0\n",
      "law_enforcement_fatality_count        1.0\n",
      "hour                                  1.0\n",
      "day_of_week                           1.0\n",
      "month                                 1.0\n",
      "year                                  1.0\n",
      "day_of_month                          1.0\n",
      "weekend                               1.0\n",
      "hour_sin                              1.0\n",
      "hour_cos                              1.0\n",
      "month_sin                             1.0\n",
      "month_cos                             1.0\n",
      "dtype: float64\n",
      "Test after scaler. mean: speed_limit                           0.003803\n",
      "sus_serious_injry_cnt                 0.002554\n",
      "nonincap_injry_cnt                   -0.006061\n",
      "poss_injry_cnt                        0.005690\n",
      "non_injry_cnt                         0.005089\n",
      "unkn_injry_cnt                        0.004673\n",
      "tot_injry_cnt                         0.000976\n",
      "death_cnt                             0.013165\n",
      "motor_vehicle_death_count             0.012069\n",
      "motor_vehicle_serious_injury_count    0.004488\n",
      "bicycle_death_count                   0.004486\n",
      "bicycle_serious_injury_count         -0.001547\n",
      "pedestrian_death_count                0.003094\n",
      "pedestrian_serious_injury_count       0.006288\n",
      "motorcycle_death_count                0.005234\n",
      "motorcycle_serious_injury_count      -0.007555\n",
      "other_death_count                     0.000000\n",
      "other_serious_injury_count           -0.003235\n",
      "micromobility_serious_injury_count    0.000000\n",
      "micromobility_death_count             0.000000\n",
      "law_enforcement_fatality_count        0.009012\n",
      "hour                                  0.014195\n",
      "day_of_week                          -0.000945\n",
      "month                                -0.005414\n",
      "year                                  0.008476\n",
      "day_of_month                          0.008503\n",
      "weekend                              -0.002587\n",
      "hour_sin                             -0.012054\n",
      "hour_cos                              0.001479\n",
      "month_sin                             0.009426\n",
      "month_cos                             0.009239\n",
      "dtype: float64 std: speed_limit                           1.000589e+00\n",
      "sus_serious_injry_cnt                 9.976736e-01\n",
      "nonincap_injry_cnt                    1.096530e+00\n",
      "poss_injry_cnt                        1.014938e+00\n",
      "non_injry_cnt                         1.027897e+00\n",
      "unkn_injry_cnt                        1.032780e+00\n",
      "tot_injry_cnt                         1.064963e+00\n",
      "death_cnt                             1.104701e+00\n",
      "motor_vehicle_death_count             1.134730e+00\n",
      "motor_vehicle_serious_injury_count    1.022329e+00\n",
      "bicycle_death_count                   1.176648e+00\n",
      "bicycle_serious_injury_count          6.752356e-01\n",
      "pedestrian_death_count                1.050039e+00\n",
      "pedestrian_serious_injury_count       1.072786e+00\n",
      "motorcycle_death_count                1.104874e+00\n",
      "motorcycle_serious_injury_count       9.599139e-01\n",
      "other_death_count                     0.000000e+00\n",
      "other_serious_injury_count            8.673617e-19\n",
      "micromobility_serious_injury_count    0.000000e+00\n",
      "micromobility_death_count             0.000000e+00\n",
      "law_enforcement_fatality_count        1.072912e+00\n",
      "hour                                  9.984511e-01\n",
      "day_of_week                           9.999802e-01\n",
      "month                                 1.004865e+00\n",
      "year                                  9.985694e-01\n",
      "day_of_month                          1.003704e+00\n",
      "weekend                               9.986004e-01\n",
      "hour_sin                              9.959862e-01\n",
      "hour_cos                              1.001802e+00\n",
      "month_sin                             1.001540e+00\n",
      "month_cos                             9.982464e-01\n",
      "dtype: float64\n"
     ]
    }
   ],
   "source": [
    "print(f'Train after scaler. mean: {np.mean(X_train[numeric_cols], axis=0)} std: {np.std(X_train[numeric_cols], axis=0)}')\n",
    "print(f'Test after scaler. mean: {np.mean(X_test[numeric_cols], axis=0)} std: {np.std(X_test[numeric_cols], axis=0)}')"
   ]
  },
  {
   "cell_type": "markdown",
   "metadata": {},
   "source": [
    "# Models\n",
    "<div id=\"models\" />\n",
    "We will be using the following models:\n",
    "\n",
    "To predict the `estimated_total_comprehensive_cost` we can use:\n",
    "1. Linear Regression\n",
    "2. Decision Tree Regression\n",
    "3. Random Forest Regression\n",
    "4. Support Vector Regression (SVR)\n",
    "5. K-Nearest Neighbors (KNN) Regression"
   ]
  },
  {
   "cell_type": "markdown",
   "metadata": {},
   "source": [
    "## Pipeline"
   ]
  },
  {
   "cell_type": "code",
   "execution_count": 12,
   "metadata": {},
   "outputs": [
    {
     "name": "stdout",
     "output_type": "stream",
     "text": [
      "Validation MSE: 6162207.852094665\n",
      "Validation R2: 0.9999879458211386\n",
      "Test MSE: 4124926.833899759\n",
      "Test R2: 0.9999931244298819\n"
     ]
    }
   ],
   "source": [
    "# creating a pipe using the make_pipeline method   \n",
    "pipe = make_pipeline(LinearRegression())\n",
    "  \n",
    "# Train the model on the training set\n",
    "pipe.fit(X_train, y_train)\n",
    "\n",
    "# Validate the model on the validation set\n",
    "y_val_pred = pipe.predict(X_val)\n",
    "val_mse = mean_squared_error(y_val, y_val_pred)\n",
    "val_r2 = r2_score(y_val, y_val_pred)\n",
    "print('Validation MSE:', val_mse)\n",
    "print('Validation R2:', val_r2)\n",
    "\n",
    "# Final evaluation on the test set\n",
    "y_test_pred = pipe.predict(X_test)\n",
    "test_mse = mean_squared_error(y_test, y_test_pred)\n",
    "test_r2 = r2_score(y_test, y_test_pred)\n",
    "print('Test MSE:', test_mse)\n",
    "print('Test R2:', test_r2)\n"
   ]
  },
  {
   "cell_type": "markdown",
   "metadata": {},
   "source": [
    "# Conclusion\n",
    "<div id=\"conclusion\" />"
   ]
  }
 ],
 "metadata": {
  "kernelspec": {
   "display_name": "Python 3",
   "language": "python",
   "name": "python3"
  },
  "language_info": {
   "codemirror_mode": {
    "name": "ipython",
    "version": 3
   },
   "file_extension": ".py",
   "mimetype": "text/x-python",
   "name": "python",
   "nbconvert_exporter": "python",
   "pygments_lexer": "ipython3",
   "version": "3.12.6"
  }
 },
 "nbformat": 4,
 "nbformat_minor": 2
}
